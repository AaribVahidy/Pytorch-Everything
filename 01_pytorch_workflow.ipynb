{
  "nbformat": 4,
  "nbformat_minor": 0,
  "metadata": {
    "colab": {
      "provenance": []
    },
    "kernelspec": {
      "name": "python3",
      "display_name": "Python 3"
    },
    "language_info": {
      "name": "python"
    }
  },
  "cells": [
    {
      "cell_type": "markdown",
      "source": [
        "#Pytorch Workflow\n",
        "Pytorch end-to-end workflow\n",
        "\n",
        "https://www.learnpytorch.io/01_pytorch_workflow/"
      ],
      "metadata": {
        "id": "mD7AWbHWxTNb"
      }
    },
    {
      "cell_type": "code",
      "execution_count": 75,
      "metadata": {
        "colab": {
          "base_uri": "https://localhost:8080/"
        },
        "id": "O0ctusiXw6gq",
        "outputId": "e2b03a6e-b71f-4938-bd2e-dc235b4b6256"
      },
      "outputs": [
        {
          "output_type": "execute_result",
          "data": {
            "text/plain": [
              "{1: 'Data (prepare and load)',\n",
              " 2: 'Build model',\n",
              " 3: 'Fitting the model to data (training)',\n",
              " 4: 'Making predictions and evaluating the model',\n",
              " 5: 'Saving and loading the model'}"
            ]
          },
          "metadata": {},
          "execution_count": 75
        }
      ],
      "source": [
        "steps = {1: \"Data (prepare and load)\",\n",
        "         2: \"Build model\",\n",
        "         3: \"Fitting the model to data (training)\",\n",
        "         4: \"Making predictions and evaluating the model\",\n",
        "         5: \"Saving and loading the model\"}\n",
        "steps #Dictionary"
      ]
    },
    {
      "cell_type": "code",
      "source": [
        "import torch\n",
        "from torch import nn #nn contains all of pytorch's building blocks for neural networks\n",
        "import matplotlib.pyplot as plt"
      ],
      "metadata": {
        "id": "6LvT7cxVxxT-"
      },
      "execution_count": 76,
      "outputs": []
    },
    {
      "cell_type": "markdown",
      "source": [
        "##1. Data(preparing and loading)\n",
        "\n",
        "Data can be almost anything in machine learning\n",
        "* Excel spreadsheets\n",
        "* Audio\n",
        "* DNA\n",
        "* Text\n",
        "* Videos\n",
        "* Images\n",
        "\n",
        "1. Get data into numerical representation\n",
        "2. Build a model to learn patterns in that numerical representation\n",
        "\n",
        "Create some known data using linear regression formula (y = mx + c).\n",
        "Make a straight line using known **parameters**"
      ],
      "metadata": {
        "id": "9W9CK1rszPFy"
      }
    },
    {
      "cell_type": "code",
      "source": [
        "#Create known parameters\n",
        "weight = 0.7 # m (Gradient/ Slope of the line)\n",
        "bias = 0.3 # c (y intercept)\n",
        "\n",
        "#Create data\n",
        "start = 0\n",
        "end = 1\n",
        "step = 0.02\n",
        "X = torch.arange(start, end, step).unsqueeze(dim = 1) #Adds an extra dimension\n",
        "y = weight * X + bias # y = mX + c\n",
        "\n",
        "X[:10], y[:10]"
      ],
      "metadata": {
        "colab": {
          "base_uri": "https://localhost:8080/"
        },
        "id": "jXw-uOiEzCgC",
        "outputId": "c430dfe2-82db-44f1-d054-ee145937cd2b"
      },
      "execution_count": 77,
      "outputs": [
        {
          "output_type": "execute_result",
          "data": {
            "text/plain": [
              "(tensor([[0.0000],\n",
              "         [0.0200],\n",
              "         [0.0400],\n",
              "         [0.0600],\n",
              "         [0.0800],\n",
              "         [0.1000],\n",
              "         [0.1200],\n",
              "         [0.1400],\n",
              "         [0.1600],\n",
              "         [0.1800]]),\n",
              " tensor([[0.3000],\n",
              "         [0.3140],\n",
              "         [0.3280],\n",
              "         [0.3420],\n",
              "         [0.3560],\n",
              "         [0.3700],\n",
              "         [0.3840],\n",
              "         [0.3980],\n",
              "         [0.4120],\n",
              "         [0.4260]]))"
            ]
          },
          "metadata": {},
          "execution_count": 77
        }
      ]
    },
    {
      "cell_type": "code",
      "source": [
        "len(X), len(y)"
      ],
      "metadata": {
        "colab": {
          "base_uri": "https://localhost:8080/"
        },
        "id": "UZSalTmW1zS_",
        "outputId": "5bfe846c-cfe2-4827-ef5f-fe16e6206790"
      },
      "execution_count": 78,
      "outputs": [
        {
          "output_type": "execute_result",
          "data": {
            "text/plain": [
              "(50, 50)"
            ]
          },
          "metadata": {},
          "execution_count": 78
        }
      ]
    },
    {
      "cell_type": "markdown",
      "source": [
        "### Splitting data into training and test sets, Most important concept in ML"
      ],
      "metadata": {
        "id": "x_Tl_2e5gSIR"
      }
    },
    {
      "cell_type": "code",
      "source": [
        "#Creating a train test split\n",
        "train_split = int(0.8 * len(X))\n",
        "#print(f\"The number of samples for training are {train_split}\")\n",
        "X_train, y_train = X[:train_split], y[:train_split]\n",
        "X_test, y_test = X[train_split:], y[train_split:]\n",
        "\n",
        "print(f\"The number of samples for training are {len(X_train)}, {len(y_train)} and the number of samples for testing are {len(X_test)}, {len(y_test)}\")"
      ],
      "metadata": {
        "colab": {
          "base_uri": "https://localhost:8080/"
        },
        "id": "i8bcG_yO2Cmt",
        "outputId": "22eeced1-74ef-49b5-f231-6829725e064e"
      },
      "execution_count": 79,
      "outputs": [
        {
          "output_type": "stream",
          "name": "stdout",
          "text": [
            "The number of samples for training are 40, 40 and the number of samples for testing are 10, 10\n"
          ]
        }
      ]
    },
    {
      "cell_type": "markdown",
      "source": [
        "### Visualising data"
      ],
      "metadata": {
        "id": "Y8Rzw0RgjL5C"
      }
    },
    {
      "cell_type": "code",
      "source": [
        "def plot_predictions(train_data = X_train,\n",
        "                     train_labels = y_train,\n",
        "                     test_data = X_test,\n",
        "                     test_labels = y_test,\n",
        "                     predictions = None):\n",
        "  \"\"\"Plots training data, testing data and compares predictions\"\"\"\n",
        "  plt.figure(figsize = (10, 7))\n",
        "\n",
        "  #Plot training data in blue\n",
        "  plt.scatter(train_data, train_labels, c = \"b\", s = 8,marker = 'o', label = \"Training data\")\n",
        "\n",
        "  #Plot testing data in green\n",
        "  plt.scatter(test_data, test_labels, c = \"g\", s = 8, marker = \"o\", label = \"Testing data\")\n",
        "\n",
        "  #Are there predictions\n",
        "  if predictions is not None:\n",
        "    #Plot the predcitions\n",
        "    plt.scatter(test_data, predictions, c = \"r\", s = 4, label = \"Predictions\")\n",
        "\n",
        "  plt.legend(prop = {\"size\" : 14})"
      ],
      "metadata": {
        "id": "uSSVM2c0hkhN"
      },
      "execution_count": 80,
      "outputs": []
    },
    {
      "cell_type": "code",
      "source": [
        "plot_predictions()"
      ],
      "metadata": {
        "colab": {
          "base_uri": "https://localhost:8080/",
          "height": 599
        },
        "id": "wiG_ZW2YlRFP",
        "outputId": "27a642c3-bc17-4921-ec4e-45668b18aef0"
      },
      "execution_count": 81,
      "outputs": [
        {
          "output_type": "display_data",
          "data": {
            "text/plain": [
              "<Figure size 1000x700 with 1 Axes>"
            ],
            "image/png": "[encoded data removed]"
          },
          "metadata": {}
        }
      ]
    },
    {
      "cell_type": "markdown",
      "source": [
        "## Building our first pytorch model\n",
        "\n",
        "for classes review: https://realpython.com/python-classes/\n",
        "\n",
        "What our model does:\n",
        "* Start with random values (weight & bias)\n",
        "* Look at training data and adjust the random values to get closer to (better represent) the ideal values (weight and bias values we used to create the data)\n",
        "\n",
        "Algorithms used:\n",
        "1. Gradient descent\n",
        "2. Back Propagation"
      ],
      "metadata": {
        "id": "tEEvRmimpNc4"
      }
    },
    {
      "cell_type": "code",
      "source": [
        "#Create linear regression model class\n",
        "import torch\n",
        "from torch import nn\n",
        "class LinearRegressionModel(nn.Module): #Almost everything in pytorch inherits from nn.Module\n",
        "  def __init__(self):\n",
        "    super().__init__()\n",
        "    self.weights = nn.Parameter(torch.randn(1,  #Start with a random value\n",
        "                                            requires_grad = True, #Keeps track of our gradient parameter and updates it through gradient descent and backpropagation\n",
        "                                            dtype = torch.float))\n",
        "    self.bias = nn.Parameter(torch.randn(1,\n",
        "                                         requires_grad = True,\n",
        "                                         dtype = torch.float))\n",
        "  #Forward method to define the computation in the model\n",
        "  def forward(self, x:torch.Tensor) -> torch.Tensor: # x is the input tensor, \"->\" indicates the return type of the function\n",
        "    return self.weights * x + self.bias #Linear regression formula y = mx + c\n",
        "  #Any subclass of nn.Module needs to override the forward method (Defines forward computation of the model)\n"
      ],
      "metadata": {
        "id": "rrR_icBZlTW-"
      },
      "execution_count": 82,
      "outputs": []
    },
    {
      "cell_type": "markdown",
      "source": [
        "###Pytorch model building essentials\n",
        "\n",
        "* torch.nn - contains all the building blocks for computational graphs(neural networks)\n",
        "* torch.nn.Parameter - What parameters should our model try and learn, often a pytorch layer from torch.nn will set these for us\n",
        "* torch.nn.Module - Base class for all Neural network modules, if you subclass it, you need to override the forward() method\n",
        "* torch.optim - This is where the optimizers in pytorch live, they help with gradient descent\n",
        "* def forward() - All nn.Module subclasses require you to overwrite forward(), this method defines what happens in the forward\n",
        "\n",
        "Cheatsheet - https://pytorch.org/tutorials/beginner/ptcheat.html"
      ],
      "metadata": {
        "id": "jIzR_u29_NVX"
      }
    },
    {
      "cell_type": "markdown",
      "source": [
        "### Checking the contents of our pytorch model\n",
        "\n",
        "Check model parameters or whats inside the model by using `.parameters()`"
      ],
      "metadata": {
        "id": "atX1Ws5lFdLV"
      }
    },
    {
      "cell_type": "code",
      "source": [
        "#Creating a random seed for random values\n",
        "torch.manual_seed(42)\n",
        "#Creating an instance of the model\n",
        "\n",
        "model_0 = LinearRegressionModel()\n",
        "#Checking out the parameters\n",
        "list(model_0.parameters())"
      ],
      "metadata": {
        "colab": {
          "base_uri": "https://localhost:8080/"
        },
        "id": "LAfB1RvYrGOX",
        "outputId": "7eb254df-8298-4b26-ca2d-e12eaf119e66"
      },
      "execution_count": 83,
      "outputs": [
        {
          "output_type": "execute_result",
          "data": {
            "text/plain": [
              "[Parameter containing:\n",
              " tensor([0.3367], requires_grad=True),\n",
              " Parameter containing:\n",
              " tensor([0.1288], requires_grad=True)]"
            ]
          },
          "metadata": {},
          "execution_count": 83
        }
      ]
    },
    {
      "cell_type": "code",
      "source": [
        "#List named parameters\n",
        "model_0.state_dict()"
      ],
      "metadata": {
        "id": "G3lrinYKGCFx",
        "colab": {
          "base_uri": "https://localhost:8080/"
        },
        "outputId": "053d4d3e-141a-4a55-a693-da7277ec6685"
      },
      "execution_count": 84,
      "outputs": [
        {
          "output_type": "execute_result",
          "data": {
            "text/plain": [
              "OrderedDict([('weights', tensor([0.3367])), ('bias', tensor([0.1288]))])"
            ]
          },
          "metadata": {},
          "execution_count": 84
        }
      ]
    },
    {
      "cell_type": "code",
      "source": [
        "weight, bias\n",
        "#OrderedDict([('weights', tensor([0.3367])), ('bias', tensor([0.1288]))])\n",
        "# We need these values to get as close as possible to\n",
        "# (0.7, 0.3)"
      ],
      "metadata": {
        "id": "lL3jopPyG51W",
        "colab": {
          "base_uri": "https://localhost:8080/"
        },
        "outputId": "6601e07a-c56e-4953-d031-16f4ac085d64"
      },
      "execution_count": 85,
      "outputs": [
        {
          "output_type": "execute_result",
          "data": {
            "text/plain": [
              "(0.7, 0.3)"
            ]
          },
          "metadata": {},
          "execution_count": 85
        }
      ]
    },
    {
      "cell_type": "markdown",
      "source": [
        "###Making predictions using torch.inference_model()\n",
        "\n",
        "To check models predictive powers, lets see how well it predicts `y_test` based on `X_test`\n",
        "\n",
        "When we pass data through our model, it's going to run it through the forward() method"
      ],
      "metadata": {
        "id": "dEp9fuVhII6L"
      }
    },
    {
      "cell_type": "code",
      "source": [
        "print(f\"{X_test} \\n\\n {y_test}\")  #What a perfect model would predict"
      ],
      "metadata": {
        "id": "YJMzokhmJPHp",
        "colab": {
          "base_uri": "https://localhost:8080/"
        },
        "outputId": "a9b6851f-d4bc-43e2-9170-5dd96a9eed9c"
      },
      "execution_count": 86,
      "outputs": [
        {
          "output_type": "stream",
          "name": "stdout",
          "text": [
            "tensor([[0.8000],\n",
            "        [0.8200],\n",
            "        [0.8400],\n",
            "        [0.8600],\n",
            "        [0.8800],\n",
            "        [0.9000],\n",
            "        [0.9200],\n",
            "        [0.9400],\n",
            "        [0.9600],\n",
            "        [0.9800]]) \n",
            "\n",
            " tensor([[0.8600],\n",
            "        [0.8740],\n",
            "        [0.8880],\n",
            "        [0.9020],\n",
            "        [0.9160],\n",
            "        [0.9300],\n",
            "        [0.9440],\n",
            "        [0.9580],\n",
            "        [0.9720],\n",
            "        [0.9860]])\n"
          ]
        }
      ]
    },
    {
      "cell_type": "code",
      "source": [
        "with torch.inference_mode(): #Makes predictions faster\n",
        "  y_preds = model_0(X_test)\n",
        "\n",
        "y_preds"
      ],
      "metadata": {
        "id": "EYPGDOEKHSmz",
        "colab": {
          "base_uri": "https://localhost:8080/"
        },
        "outputId": "5985b07d-53c9-444f-860e-208821cc643c"
      },
      "execution_count": 87,
      "outputs": [
        {
          "output_type": "execute_result",
          "data": {
            "text/plain": [
              "tensor([[0.3982],\n",
              "        [0.4049],\n",
              "        [0.4116],\n",
              "        [0.4184],\n",
              "        [0.4251],\n",
              "        [0.4318],\n",
              "        [0.4386],\n",
              "        [0.4453],\n",
              "        [0.4520],\n",
              "        [0.4588]])"
            ]
          },
          "metadata": {},
          "execution_count": 87
        }
      ]
    },
    {
      "cell_type": "code",
      "source": [
        "plot_predictions(predictions = y_preds)"
      ],
      "metadata": {
        "id": "NOJcRjQyI6Hl",
        "colab": {
          "base_uri": "https://localhost:8080/",
          "height": 599
        },
        "outputId": "03af8b73-5de2-471c-8093-7fefd7403459"
      },
      "execution_count": 88,
      "outputs": [
        {
          "output_type": "display_data",
          "data": {
            "text/plain": [
              "<Figure size 1000x700 with 1 Axes>"
            ],
            "image/png": "[encoded data removed]"
          },
          "metadata": {}
        }
      ]
    },
    {
      "cell_type": "markdown",
      "source": [
        "## 3. Train Model\n",
        "Whole idea of training is to move from some *unknown* parameters (these may be random) to some *known* parameters.\n",
        "\n",
        "From a poor representation of data to a better representation of data\n",
        "\n",
        "One way to measure how wrong the predictions are, we use a loss function(cost function / criterion)\n",
        "\n",
        "Things we need to train:\n",
        "\n",
        "* **Loss Function:** A function to measure how wrong your models predictions are to the ideal outputs, lower is better.\n",
        "* **Optimizer:** Takes into account the loss of a model and adjusts the model's parameters (weight and bias in this case) to improve the loss function\n",
        "\n",
        "Specifically for pytorch we need:\n",
        "* training loop\n",
        "* testing loop\n"
      ],
      "metadata": {
        "id": "uUaXcKbaMxIs"
      }
    },
    {
      "cell_type": "code",
      "source": [
        "#Check out models parameters (A parameter is a value the model sets itself)\n",
        "model_0.state_dict()"
      ],
      "metadata": {
        "id": "1gg22vQr_fze",
        "colab": {
          "base_uri": "https://localhost:8080/"
        },
        "outputId": "05473a11-13a7-46ae-a16b-d46a9e9a85be"
      },
      "execution_count": 89,
      "outputs": [
        {
          "output_type": "execute_result",
          "data": {
            "text/plain": [
              "OrderedDict([('weights', tensor([0.3367])), ('bias', tensor([0.1288]))])"
            ]
          },
          "metadata": {},
          "execution_count": 89
        }
      ]
    },
    {
      "cell_type": "code",
      "source": [
        "#Setting up a loss function\n",
        "loss_fn = nn.L1Loss() # We need to minimize the distance between the predictions points and the actual value of testing points in the above graph\n",
        "#L1Loss is just Mean Absolute Error(Distance between the points)\n",
        "\n",
        "#Setting up an optimizer (Stochastic Gradient descent)\n",
        "#Starts by randomly adjusting values, when it sees that loss is decreasing by its change, it keeps changing in that direction till loss does not decrease anymore\n",
        "optimizer = torch.optim.SGD(params = model_0.parameters(),\n",
        "                            lr = 0.01)\n",
        "#params means which parameters should the optimizer optimize?\n",
        "#lr = learning rate, the most important hyperparameter (We set it)\n",
        "#Higher the learning rate, the more it adjusts each of the parameters in one run\n",
        "#e.g with lr 0.01 the weight 0.3367 will be changed by 0.01 in one run"
      ],
      "metadata": {
        "id": "ItOkEutWK1M4"
      },
      "execution_count": 90,
      "outputs": []
    },
    {
      "cell_type": "markdown",
      "source": [
        "QS: Which loss function or optimizer should be used?\n",
        "\n",
        "Ans: It will be problem specific, with experience learn what works best with the particular problem set\n",
        "\n",
        "For example for our linear regression problem nn.L1Loss() and torch.optim.SGD will suffice\n",
        "\n",
        "but for a problem like classification e.g cats or dogs a binary cross entropy function may work best nn.BCELoss()"
      ],
      "metadata": {
        "id": "WXjtDwiHA_SC"
      }
    },
    {
      "cell_type": "markdown",
      "source": [
        "### Building a training loop and a testing loop\n",
        "\n",
        "What we need:\n",
        "0. Loop through the data\n",
        "1. Forward pass (This involves the data moving through our models `forward()` functions) to make predictions on the data\n",
        "2. Calculate the loss (Compare the forward pass predictions to the actual true values)\n",
        "3. Optimizer zero grad\n",
        "4. Loss Backwards - move backwards through the neural network to calculate the gradients of each of the parameters of our model with respect to the loss (**Back Propagation**)\n",
        "5. Optimizer Step - Use the optimizer to adjust our models parameters in order to try and improve the loss (**Gradient Descent**)\n"
      ],
      "metadata": {
        "id": "nK3ohfg5BwUR"
      }
    },
    {
      "cell_type": "code",
      "source": [
        "torch.manual_seed(42)\n",
        "#An epoch is one loop through the data.(HyperParameter)\n",
        "epochs = 200\n",
        "#Track different values for monitoring and comparisons\n",
        "\n",
        "epoch_count = []\n",
        "train_loss_values = []\n",
        "test_loss_values = []\n",
        "\n",
        "#Refer to where model_0 was created for better understanding\n",
        "#Training\n",
        "#0. Loop through the data\n",
        "for epoch in range(epochs):\n",
        "  #Set the model to training mode\n",
        "  model_0.train() #Train mode in pytorch sets all parameters that require gradients to require gradients\n",
        "  #1. Forward pass\n",
        "  y_pred = model_0(X_train) #Trained on the basis of X_train data points so we are predicting the y value for the X_train values\n",
        "\n",
        "  #2. Calculate the loss\n",
        "  loss = loss_fn(y_pred, y_train) #Usnay predict kya kiya aur actual kya tha, y_pred is what the model predicted and y_train is the actual value\n",
        "  #print(f\"Loss: {loss}\")\n",
        "\n",
        "  #3. Optimizer zero grad, Zero the gradients of the optimizer(They accumulate by default in each epoch)\n",
        "  optimizer.zero_grad()\n",
        "\n",
        "  #4. Perform back propagation on the loss function wrt the parameters (compute the gradient of every parameter with requires_grad = True)\n",
        "  loss.backward()\n",
        "\n",
        "  #5. Step the optimizer to update the model's parameters wrt the gradients calculated by loss.backward() (Perform Gradient Descent)\n",
        "  optimizer.step()\n",
        "  #By default how the optimizer changes will accumulate through the loop so we have to zero them above in step 3\n",
        "\n",
        "  #Testing\n",
        "  model_0.eval() # Put the model into evaluation mode, turns off different settings not required for evaluation/testing\n",
        "  with torch.inference_mode(): #Turns off gradient tracking and a more things not needed for testing (Faster performance)\n",
        "    #1. Perform the forward pass\n",
        "    test_pred = model_0(X_test) #Testing so use testing data throughout, Not training data.\n",
        "\n",
        "    #2. Calculate the loss\n",
        "    test_loss = loss_fn(test_pred, y_test) #What our model predicted for test data and what the actual test values were (How wrong our model is on the testing data)\n",
        "\n",
        "  #Print out what is happening every 10 epochs\n",
        "  if epoch % 10 == 0: #In order to now clutter and just get results after 10 epochs\n",
        "    epoch_count.append(epoch)\n",
        "    train_loss_values.append(loss)\n",
        "    test_loss_values.append(test_loss)\n",
        "    print(f\"\\n Epoch: {epoch} | Loss: {loss} | Test loss: {test_loss} \\n\")\n",
        "\n",
        "    #Print out model state_dict\n",
        "    print(model_0.state_dict()) #Optimal value for weight is 0.7 and bias is 0.3"
      ],
      "metadata": {
        "id": "C6Fu3-dfBiRL",
        "colab": {
          "base_uri": "https://localhost:8080/"
        },
        "outputId": "8cf5b674-63f6-48ac-9160-7b7169e8521a"
      },
      "execution_count": 91,
      "outputs": [
        {
          "output_type": "stream",
          "name": "stdout",
          "text": [
            "\n",
            " Epoch: 0 | Loss: 0.31288138031959534 | Test loss: 0.48106518387794495 \n",
            "\n",
            "OrderedDict([('weights', tensor([0.3406])), ('bias', tensor([0.1388]))])\n",
            "\n",
            " Epoch: 10 | Loss: 0.1976713240146637 | Test loss: 0.3463551998138428 \n",
            "\n",
            "OrderedDict([('weights', tensor([0.3796])), ('bias', tensor([0.2388]))])\n",
            "\n",
            " Epoch: 20 | Loss: 0.08908725529909134 | Test loss: 0.21729660034179688 \n",
            "\n",
            "OrderedDict([('weights', tensor([0.4184])), ('bias', tensor([0.3333]))])\n",
            "\n",
            " Epoch: 30 | Loss: 0.053148526698350906 | Test loss: 0.14464017748832703 \n",
            "\n",
            "OrderedDict([('weights', tensor([0.4512])), ('bias', tensor([0.3768]))])\n",
            "\n",
            " Epoch: 40 | Loss: 0.04543796554207802 | Test loss: 0.11360953003168106 \n",
            "\n",
            "OrderedDict([('weights', tensor([0.4748])), ('bias', tensor([0.3868]))])\n",
            "\n",
            " Epoch: 50 | Loss: 0.04167863354086876 | Test loss: 0.09919948130846024 \n",
            "\n",
            "OrderedDict([('weights', tensor([0.4938])), ('bias', tensor([0.3843]))])\n",
            "\n",
            " Epoch: 60 | Loss: 0.03818932920694351 | Test loss: 0.08886633068323135 \n",
            "\n",
            "OrderedDict([('weights', tensor([0.5116])), ('bias', tensor([0.3788]))])\n",
            "\n",
            " Epoch: 70 | Loss: 0.03476089984178543 | Test loss: 0.0805937647819519 \n",
            "\n",
            "OrderedDict([('weights', tensor([0.5288])), ('bias', tensor([0.3718]))])\n",
            "\n",
            " Epoch: 80 | Loss: 0.03132382780313492 | Test loss: 0.07232122868299484 \n",
            "\n",
            "OrderedDict([('weights', tensor([0.5459])), ('bias', tensor([0.3648]))])\n",
            "\n",
            " Epoch: 90 | Loss: 0.02788739837706089 | Test loss: 0.06473556160926819 \n",
            "\n",
            "OrderedDict([('weights', tensor([0.5629])), ('bias', tensor([0.3573]))])\n",
            "\n",
            " Epoch: 100 | Loss: 0.024458957836031914 | Test loss: 0.05646304413676262 \n",
            "\n",
            "OrderedDict([('weights', tensor([0.5800])), ('bias', tensor([0.3503]))])\n",
            "\n",
            " Epoch: 110 | Loss: 0.021020207554101944 | Test loss: 0.04819049686193466 \n",
            "\n",
            "OrderedDict([('weights', tensor([0.5972])), ('bias', tensor([0.3433]))])\n",
            "\n",
            " Epoch: 120 | Loss: 0.01758546568453312 | Test loss: 0.04060482233762741 \n",
            "\n",
            "OrderedDict([('weights', tensor([0.6141])), ('bias', tensor([0.3358]))])\n",
            "\n",
            " Epoch: 130 | Loss: 0.014155393466353416 | Test loss: 0.03233227878808975 \n",
            "\n",
            "OrderedDict([('weights', tensor([0.6313])), ('bias', tensor([0.3288]))])\n",
            "\n",
            " Epoch: 140 | Loss: 0.010716589167714119 | Test loss: 0.024059748277068138 \n",
            "\n",
            "OrderedDict([('weights', tensor([0.6485])), ('bias', tensor([0.3218]))])\n",
            "\n",
            " Epoch: 150 | Loss: 0.0072835334576666355 | Test loss: 0.016474086791276932 \n",
            "\n",
            "OrderedDict([('weights', tensor([0.6654])), ('bias', tensor([0.3143]))])\n",
            "\n",
            " Epoch: 160 | Loss: 0.0038517764769494534 | Test loss: 0.008201557211577892 \n",
            "\n",
            "OrderedDict([('weights', tensor([0.6826])), ('bias', tensor([0.3073]))])\n",
            "\n",
            " Epoch: 170 | Loss: 0.008932482451200485 | Test loss: 0.005023092031478882 \n",
            "\n",
            "OrderedDict([('weights', tensor([0.6951])), ('bias', tensor([0.2993]))])\n",
            "\n",
            " Epoch: 180 | Loss: 0.008932482451200485 | Test loss: 0.005023092031478882 \n",
            "\n",
            "OrderedDict([('weights', tensor([0.6951])), ('bias', tensor([0.2993]))])\n",
            "\n",
            " Epoch: 190 | Loss: 0.008932482451200485 | Test loss: 0.005023092031478882 \n",
            "\n",
            "OrderedDict([('weights', tensor([0.6951])), ('bias', tensor([0.2993]))])\n"
          ]
        }
      ]
    },
    {
      "cell_type": "code",
      "source": [
        "#Plotting the loss curves\n",
        "import numpy as np #need to convert to numpy array as matplotlib works with numpy arrays, not tensors\n",
        "plt.plot(epoch_count, np.array(torch.tensor(train_loss_values).cpu().numpy()), label = \"Train Loss\")\n",
        "plt.plot(epoch_count, test_loss_values, label = \"Test Loss\")\n",
        "plt.title(\"Training and Testing loss curves\")\n",
        "plt.ylabel(\"Loss\")\n",
        "plt.xlabel(\"Epochs\")\n",
        "plt.legend()"
      ],
      "metadata": {
        "id": "EN-niXNAJd5Y",
        "colab": {
          "base_uri": "https://localhost:8080/",
          "height": 490
        },
        "outputId": "57a2f242-6437-4564-935b-fec7073ed68a"
      },
      "execution_count": 92,
      "outputs": [
        {
          "output_type": "execute_result",
          "data": {
            "text/plain": [
              "<matplotlib.legend.Legend at 0x7dd6e5b38370>"
            ]
          },
          "metadata": {},
          "execution_count": 92
        },
        {
          "output_type": "display_data",
          "data": {
            "text/plain": [
              "<Figure size 640x480 with 1 Axes>"
            ],
            "image/png": "[encoded data removed]"
          },
          "metadata": {}
        }
      ]
    },
    {
      "cell_type": "code",
      "source": [
        "with torch.inference_mode():\n",
        "  y_preds_new = model_0(X_test)"
      ],
      "metadata": {
        "id": "8bncv-_e8I51"
      },
      "execution_count": 93,
      "outputs": []
    },
    {
      "cell_type": "code",
      "source": [
        "plot_predictions(predictions = y_preds_new)"
      ],
      "metadata": {
        "id": "piwJtOli9sIT",
        "colab": {
          "base_uri": "https://localhost:8080/",
          "height": 599
        },
        "outputId": "7f159a64-763e-43f5-8247-7af8c3e50425"
      },
      "execution_count": 94,
      "outputs": [
        {
          "output_type": "display_data",
          "data": {
            "text/plain": [
              "<Figure size 1000x700 with 1 Axes>"
            ],
            "image/png": "[encoded data removed]"
          },
          "metadata": {}
        }
      ]
    },
    {
      "cell_type": "markdown",
      "source": [
        "##Saving a model in pytorch\n",
        "\n",
        "Three Methods for saving and loading models\n",
        "1. `torch.save()` - Allows you to save a Pytorch object in pythons pickle format\n",
        "2. `torch.load()` - Allows you to load a Pytorch object\n",
        "3. `torch.nn.Module.load_state_dict()` - Allows you to load a model's saved state dictionary"
      ],
      "metadata": {
        "id": "a7Dlp8vCFWXG"
      }
    },
    {
      "cell_type": "code",
      "source": [
        "#Saving our pytorch model\n",
        "from pathlib import Path\n",
        "\n",
        "#1. Create model directory\n",
        "MODEL_PATH = Path(\"models\")\n",
        "MODEL_PATH.mkdir(parents = True, exist_ok = True)\n",
        "\n",
        "#2. Create model save path\n",
        "MODEL_NAME = \"01_pytorch_workflow_model_0.pth\"\n",
        "MODEL_SAVE_PATH = MODEL_PATH / MODEL_NAME\n",
        "MODEL_SAVE_PATH\n",
        "\n",
        "#3. Saving the model state dict\n",
        "print(f\"Saving model to {MODEL_SAVE_PATH}\")\n",
        "torch.save(obj = model_0.state_dict(), f = MODEL_SAVE_PATH)"
      ],
      "metadata": {
        "id": "_2EQfI4b-ykq",
        "colab": {
          "base_uri": "https://localhost:8080/"
        },
        "outputId": "7c92bf57-855d-4e36-a8b6-05e52c475616"
      },
      "execution_count": 95,
      "outputs": [
        {
          "output_type": "stream",
          "name": "stdout",
          "text": [
            "Saving model to models/01_pytorch_workflow_model_0.pth\n"
          ]
        }
      ]
    },
    {
      "cell_type": "code",
      "source": [
        "!ls -l models"
      ],
      "metadata": {
        "id": "4e3Ed1WCLZ0B",
        "colab": {
          "base_uri": "https://localhost:8080/"
        },
        "outputId": "d9b71abc-f6e3-423f-f40d-051dc1ea3933"
      },
      "execution_count": 96,
      "outputs": [
        {
          "output_type": "stream",
          "name": "stdout",
          "text": [
            "total 4\n",
            "-rw-r--r-- 1 root root 1680 Jul  5 14:27 01_pytorch_workflow_model_0.pth\n"
          ]
        }
      ]
    },
    {
      "cell_type": "markdown",
      "source": [
        "## Loading a pytorch model\n",
        "\n",
        "Since we saved our model's `state_dict()` rather than our entire model, we'll create a new instance of our model class and load the saved `state_dict()` in it\n"
      ],
      "metadata": {
        "id": "QMe-8tveMvN_"
      }
    },
    {
      "cell_type": "code",
      "source": [
        "#Instantiate a new instance of our model class to load in\n",
        "\n",
        "loaded_model_0 = LinearRegressionModel()\n",
        "\n",
        "#Load the saved state_dict of model_0 (this will update the new instance with the updated parameters)\n",
        "loaded_model_0.load_state_dict(torch.load(f = MODEL_SAVE_PATH))\n"
      ],
      "metadata": {
        "id": "GOJWOy4OMLeY",
        "colab": {
          "base_uri": "https://localhost:8080/"
        },
        "outputId": "f827e7ae-33c5-49a9-b1cd-7807dbdc0f9c"
      },
      "execution_count": 97,
      "outputs": [
        {
          "output_type": "execute_result",
          "data": {
            "text/plain": [
              "<All keys matched successfully>"
            ]
          },
          "metadata": {},
          "execution_count": 97
        }
      ]
    },
    {
      "cell_type": "code",
      "source": [
        "loaded_model_0.state_dict()"
      ],
      "metadata": {
        "id": "5dMaeC1TOCGe",
        "colab": {
          "base_uri": "https://localhost:8080/"
        },
        "outputId": "4f56b41c-acf4-456b-d0c0-575430de1a63"
      },
      "execution_count": 98,
      "outputs": [
        {
          "output_type": "execute_result",
          "data": {
            "text/plain": [
              "OrderedDict([('weights', tensor([0.6990])), ('bias', tensor([0.3093]))])"
            ]
          },
          "metadata": {},
          "execution_count": 98
        }
      ]
    },
    {
      "cell_type": "code",
      "source": [
        "# Making some predictions with our loaded model\n",
        "loaded_model_0.eval()\n",
        "with torch.inference_mode():\n",
        "  loaded_model_preds = loaded_model_0(X_test)\n",
        "\n",
        "loaded_model_preds"
      ],
      "metadata": {
        "id": "bSW8XcQ5OGvU",
        "colab": {
          "base_uri": "https://localhost:8080/"
        },
        "outputId": "189834af-6003-42b5-f753-c344edf1c858"
      },
      "execution_count": 99,
      "outputs": [
        {
          "output_type": "execute_result",
          "data": {
            "text/plain": [
              "tensor([[0.8685],\n",
              "        [0.8825],\n",
              "        [0.8965],\n",
              "        [0.9105],\n",
              "        [0.9245],\n",
              "        [0.9384],\n",
              "        [0.9524],\n",
              "        [0.9664],\n",
              "        [0.9804],\n",
              "        [0.9944]])"
            ]
          },
          "metadata": {},
          "execution_count": 99
        }
      ]
    },
    {
      "cell_type": "code",
      "source": [
        "#Checking if old predictions of model_0 match with the new predictions from the loaded model\n",
        "y_preds_new == loaded_model_preds\n",
        "#Output is True."
      ],
      "metadata": {
        "id": "nq7hIVVFOd1z",
        "colab": {
          "base_uri": "https://localhost:8080/"
        },
        "outputId": "090ed1a6-6524-44ee-96b2-4a1900c02042"
      },
      "execution_count": 100,
      "outputs": [
        {
          "output_type": "execute_result",
          "data": {
            "text/plain": [
              "tensor([[True],\n",
              "        [True],\n",
              "        [True],\n",
              "        [True],\n",
              "        [True],\n",
              "        [True],\n",
              "        [True],\n",
              "        [True],\n",
              "        [True],\n",
              "        [True]])"
            ]
          },
          "metadata": {},
          "execution_count": 100
        }
      ]
    },
    {
      "cell_type": "markdown",
      "source": [
        "##6. Putting it all together"
      ],
      "metadata": {
        "id": "z0fNK163ySJZ"
      }
    },
    {
      "cell_type": "markdown",
      "source": [
        "Creating device agnostic code"
      ],
      "metadata": {
        "id": "M7HarkF89xXO"
      }
    },
    {
      "cell_type": "code",
      "source": [
        "import torch\n",
        "from torch import nn"
      ],
      "metadata": {
        "id": "lwXL0DFk_6_w"
      },
      "execution_count": 101,
      "outputs": []
    },
    {
      "cell_type": "code",
      "source": [
        "device = \"cuda\" if torch.cuda.is_available() else \"cpu\"\n",
        "print(f\"Device: {device}\")\n"
      ],
      "metadata": {
        "colab": {
          "base_uri": "https://localhost:8080/"
        },
        "id": "w1XCu_wJ90O6",
        "outputId": "3cb115b4-0a95-4f4d-d1ab-b72753fc8f4b"
      },
      "execution_count": 102,
      "outputs": [
        {
          "output_type": "stream",
          "name": "stdout",
          "text": [
            "Device: cuda\n"
          ]
        }
      ]
    },
    {
      "cell_type": "code",
      "source": [
        "#Getting Data\n",
        "weight = 0.7\n",
        "bias = 0.3\n",
        "data = torch.arange(start = 0, end = 1, step = 0.02).unsqueeze(dim = 1)\n",
        "y = weight * data + bias\n",
        "print(len(data), len(y))"
      ],
      "metadata": {
        "colab": {
          "base_uri": "https://localhost:8080/"
        },
        "id": "p-jKY_i7_5zF",
        "outputId": "3e29963e-08d0-49d0-a70d-59a0afba4976"
      },
      "execution_count": 103,
      "outputs": [
        {
          "output_type": "stream",
          "name": "stdout",
          "text": [
            "50 50\n"
          ]
        }
      ]
    },
    {
      "cell_type": "code",
      "source": [
        "train_set = int(0.8 * len(data))\n",
        "X_train = data[:train_set]\n",
        "y_train = y[:train_set]\n",
        "X_test = data[train_set:]\n",
        "y_test = y[train_set:]\n",
        "print(len(X_train), len(y_train), len(X_test), len(y_test))"
      ],
      "metadata": {
        "colab": {
          "base_uri": "https://localhost:8080/"
        },
        "id": "yM00couYAdzQ",
        "outputId": "23e62719-6a78-4718-8858-6523420c1da5"
      },
      "execution_count": 104,
      "outputs": [
        {
          "output_type": "stream",
          "name": "stdout",
          "text": [
            "40 40 10 10\n"
          ]
        }
      ]
    },
    {
      "cell_type": "code",
      "source": [
        "class LinearRegression(nn.Module):\n",
        "  def __init__(self):\n",
        "    super().__init__()\n",
        "    #Use nn.Linear() for creating the model's parameters\n",
        "    self.linear_layer = nn.Linear(in_features = 1,\n",
        "                                  out_features = 1) #Input of size 1 and output of size 1\n",
        "\n",
        "  def forward(self, x:torch.Tensor) -> torch.Tensor:\n",
        "      return self.linear_layer(x)"
      ],
      "metadata": {
        "id": "iqlHSgWoA_8k"
      },
      "execution_count": 105,
      "outputs": []
    },
    {
      "cell_type": "code",
      "source": [
        "torch.manual_seed(42)\n",
        "model_1 = LinearRegression()\n",
        "list(model_1.parameters()), model_1, model_1.state_dict()"
      ],
      "metadata": {
        "colab": {
          "base_uri": "https://localhost:8080/"
        },
        "id": "b-8KyiqRBnkB",
        "outputId": "d35440f6-2775-4cb4-decc-ec6d8687c29b"
      },
      "execution_count": 106,
      "outputs": [
        {
          "output_type": "execute_result",
          "data": {
            "text/plain": [
              "([Parameter containing:\n",
              "  tensor([[0.7645]], requires_grad=True),\n",
              "  Parameter containing:\n",
              "  tensor([0.8300], requires_grad=True)],\n",
              " LinearRegression(\n",
              "   (linear_layer): Linear(in_features=1, out_features=1, bias=True)\n",
              " ),\n",
              " OrderedDict([('linear_layer.weight', tensor([[0.7645]])),\n",
              "              ('linear_layer.bias', tensor([0.8300]))]))"
            ]
          },
          "metadata": {},
          "execution_count": 106
        }
      ]
    },
    {
      "cell_type": "code",
      "source": [
        "#Set the model to use the target device\n",
        "model_1.to(device)\n",
        "next(model_1.parameters()).device"
      ],
      "metadata": {
        "colab": {
          "base_uri": "https://localhost:8080/"
        },
        "id": "rgV2KgUoNv5Q",
        "outputId": "30c99952-24f0-4bed-93a1-37491c65d219"
      },
      "execution_count": 107,
      "outputs": [
        {
          "output_type": "execute_result",
          "data": {
            "text/plain": [
              "device(type='cuda', index=0)"
            ]
          },
          "metadata": {},
          "execution_count": 107
        }
      ]
    },
    {
      "cell_type": "code",
      "source": [
        "loss_func = nn.L1Loss()\n",
        "optimizer = torch.optim.SGD(params = model_1.parameters(),\n",
        "                        lr = 0.01)"
      ],
      "metadata": {
        "id": "8qHs_a4oERPm"
      },
      "execution_count": 108,
      "outputs": []
    },
    {
      "cell_type": "code",
      "source": [
        "torch.manual_seed(42)\n",
        "epochs = 200\n",
        "epoch_count = []\n",
        "train_loss_values = []\n",
        "test_loss_values = []\n",
        "\n",
        "#Put data on target device, device agnostic code for data\n",
        "X_train = X_train.to(device)\n",
        "y_train = y_train.to(device)\n",
        "X_test = X_test.to(device)\n",
        "y_test = y_test.to(device)\n",
        "\n",
        "for epoch in range(epochs):\n",
        "  model_1.train()\n",
        "  y_pred = model_1(X_train) #Forward pass\n",
        "  train_loss = loss_func(y_pred, y_train) #Calc loss\n",
        "  optimizer.zero_grad() #Zero the gradients\n",
        "  train_loss.backward() #Perform back propagation\n",
        "  optimizer.step() #Optimize the parameters\n",
        "\n",
        "  model_1.eval()\n",
        "  with torch.inference_mode():\n",
        "    test_pred = model_1(X_test)\n",
        "    test_loss = loss_func(test_pred, y_test)\n",
        "\n",
        "    if epoch % 10 == 0:\n",
        "      epoch_count.append(epoch)\n",
        "      train_loss_values.append(loss)\n",
        "      test_loss_values.append(test_loss)\n",
        "      print(f\"epoch: {epoch}, train loss = {train_loss}, test loss = {test_loss}\")"
      ],
      "metadata": {
        "colab": {
          "base_uri": "https://localhost:8080/"
        },
        "id": "3SVol_cuElLB",
        "outputId": "9749f174-35d3-4e07-f3f9-c0c09bbf9dec"
      },
      "execution_count": 109,
      "outputs": [
        {
          "output_type": "stream",
          "name": "stdout",
          "text": [
            "epoch: 0, train loss = 0.5551779866218567, test loss = 0.5739762187004089\n",
            "epoch: 10, train loss = 0.439968079328537, test loss = 0.4392664134502411\n",
            "epoch: 20, train loss = 0.3247582018375397, test loss = 0.30455657839775085\n",
            "epoch: 30, train loss = 0.20954833924770355, test loss = 0.16984669864177704\n",
            "epoch: 40, train loss = 0.09433845430612564, test loss = 0.03513690456748009\n",
            "epoch: 50, train loss = 0.023886388167738914, test loss = 0.04784907028079033\n",
            "epoch: 60, train loss = 0.019956795498728752, test loss = 0.045803118497133255\n",
            "epoch: 70, train loss = 0.016517987474799156, test loss = 0.037530567497015\n",
            "epoch: 80, train loss = 0.013089174404740334, test loss = 0.02994490973651409\n",
            "epoch: 90, train loss = 0.009653178043663502, test loss = 0.02167237363755703\n",
            "epoch: 100, train loss = 0.006215683650225401, test loss = 0.014086711220443249\n",
            "epoch: 110, train loss = 0.00278724217787385, test loss = 0.005814164876937866\n",
            "epoch: 120, train loss = 0.0012645035749301314, test loss = 0.013801801018416882\n",
            "epoch: 130, train loss = 0.0012645035749301314, test loss = 0.013801801018416882\n",
            "epoch: 140, train loss = 0.0012645035749301314, test loss = 0.013801801018416882\n",
            "epoch: 150, train loss = 0.0012645035749301314, test loss = 0.013801801018416882\n",
            "epoch: 160, train loss = 0.0012645035749301314, test loss = 0.013801801018416882\n",
            "epoch: 170, train loss = 0.0012645035749301314, test loss = 0.013801801018416882\n",
            "epoch: 180, train loss = 0.0012645035749301314, test loss = 0.013801801018416882\n",
            "epoch: 190, train loss = 0.0012645035749301314, test loss = 0.013801801018416882\n"
          ]
        }
      ]
    },
    {
      "cell_type": "code",
      "source": [
        "print(model_1.state_dict())\n",
        "weight,bias"
      ],
      "metadata": {
        "colab": {
          "base_uri": "https://localhost:8080/"
        },
        "id": "rRAfRxzMJc_1",
        "outputId": "23b128c1-4c16-430f-c59a-e7efbdaaa92a"
      },
      "execution_count": 110,
      "outputs": [
        {
          "output_type": "stream",
          "name": "stdout",
          "text": [
            "OrderedDict([('linear_layer.weight', tensor([[0.6968]], device='cuda:0')), ('linear_layer.bias', tensor([0.3025], device='cuda:0'))])\n"
          ]
        },
        {
          "output_type": "execute_result",
          "data": {
            "text/plain": [
              "(0.7, 0.3)"
            ]
          },
          "metadata": {},
          "execution_count": 110
        }
      ]
    },
    {
      "cell_type": "code",
      "source": [
        "model_1.eval()\n",
        "with torch.inference_mode():\n",
        "  y_preds = model_1(X_test)\n",
        "y_preds"
      ],
      "metadata": {
        "colab": {
          "base_uri": "https://localhost:8080/"
        },
        "id": "_yNrTaQCQkRs",
        "outputId": "a43d6d06-ee20-4df3-b5a7-14a50bd0193a"
      },
      "execution_count": 111,
      "outputs": [
        {
          "output_type": "execute_result",
          "data": {
            "text/plain": [
              "tensor([[0.8600],\n",
              "        [0.8739],\n",
              "        [0.8878],\n",
              "        [0.9018],\n",
              "        [0.9157],\n",
              "        [0.9296],\n",
              "        [0.9436],\n",
              "        [0.9575],\n",
              "        [0.9714],\n",
              "        [0.9854]], device='cuda:0')"
            ]
          },
          "metadata": {},
          "execution_count": 111
        }
      ]
    },
    {
      "cell_type": "code",
      "source": [
        "#Check out model predictions visually\n",
        "plot_predictions(predictions = y_preds.cpu())\n",
        "#Predictions on top of testing data!"
      ],
      "metadata": {
        "colab": {
          "base_uri": "https://localhost:8080/",
          "height": 599
        },
        "id": "J7BAqFFCR0Ud",
        "outputId": "e7f1c28a-bcda-435a-8011-19c1b3962b54"
      },
      "execution_count": 112,
      "outputs": [
        {
          "output_type": "display_data",
          "data": {
            "text/plain": [
              "<Figure size 1000x700 with 1 Axes>"
            ],
            "image/png": "[encoded data removed]"
          },
          "metadata": {}
        }
      ]
    },
    {
      "cell_type": "code",
      "source": [
        "#Saving our pytorch model\n",
        "from pathlib import Path\n",
        "\n",
        "#1. Create model directory\n",
        "MODEL_PATH = Path(\"models\")\n",
        "MODEL_PATH.mkdir(parents = True, exist_ok = True)\n",
        "\n",
        "#2. Create model save path\n",
        "MODEL_NAME = \"01_pytorch_workflow_model_1.pth\"\n",
        "MODEL_SAVE_PATH = MODEL_PATH / MODEL_NAME\n",
        "MODEL_SAVE_PATH\n",
        "\n",
        "#3. Saving the model state dict\n",
        "print(f\"Saving model to {MODEL_SAVE_PATH}\")\n",
        "torch.save(obj = model_1.state_dict(), f = MODEL_SAVE_PATH)"
      ],
      "metadata": {
        "colab": {
          "base_uri": "https://localhost:8080/"
        },
        "id": "raCJx7zRSAcC",
        "outputId": "0f726403-6909-4d63-a9ab-8b39d422f65c"
      },
      "execution_count": 113,
      "outputs": [
        {
          "output_type": "stream",
          "name": "stdout",
          "text": [
            "Saving model to models/01_pytorch_workflow_model_1.pth\n"
          ]
        }
      ]
    },
    {
      "cell_type": "code",
      "source": [
        "#Instantiate a new instance of our model class to load in\n",
        "\n",
        "loaded_model_1 = LinearRegression()\n",
        "\n",
        "#Load the saved state_dict of model_1 (this will update the new instance with the updated parameters)\n",
        "loaded_model_1.load_state_dict(torch.load(f = MODEL_SAVE_PATH))\n",
        "\n",
        "#Put loaded model onto device\n",
        "loaded_model_1.to(device)"
      ],
      "metadata": {
        "colab": {
          "base_uri": "https://localhost:8080/"
        },
        "id": "7t9bZnnYTdtn",
        "outputId": "30d6527a-7efe-41e1-ee28-b0b5db1becbc"
      },
      "execution_count": 118,
      "outputs": [
        {
          "output_type": "execute_result",
          "data": {
            "text/plain": [
              "LinearRegression(\n",
              "  (linear_layer): Linear(in_features=1, out_features=1, bias=True)\n",
              ")"
            ]
          },
          "metadata": {},
          "execution_count": 118
        }
      ]
    },
    {
      "cell_type": "code",
      "source": [
        "loaded_model_1.state_dict()"
      ],
      "metadata": {
        "colab": {
          "base_uri": "https://localhost:8080/"
        },
        "id": "K0VEmQUhTeHf",
        "outputId": "fd1adb70-c37f-4f89-86ce-7b6193079f59"
      },
      "execution_count": 117,
      "outputs": [
        {
          "output_type": "execute_result",
          "data": {
            "text/plain": [
              "OrderedDict([('linear_layer.weight', tensor([[0.6968]])),\n",
              "             ('linear_layer.bias', tensor([0.3025]))])"
            ]
          },
          "metadata": {},
          "execution_count": 117
        }
      ]
    },
    {
      "cell_type": "code",
      "source": [],
      "metadata": {
        "id": "x-MVGj0gTmtv"
      },
      "execution_count": null,
      "outputs": []
    },
    {
      "cell_type": "markdown",
      "source": [
        "## FINISHED HERE, EXERCISES DONE IN SEPARATE NOTEBOOK"
      ],
      "metadata": {
        "id": "5v9VNUk_bcxh"
      }
    },
    {
      "cell_type": "code",
      "source": [],
      "metadata": {
        "id": "zfo1oN3SbgAI"
      },
      "execution_count": null,
      "outputs": []
    }
  ]
}