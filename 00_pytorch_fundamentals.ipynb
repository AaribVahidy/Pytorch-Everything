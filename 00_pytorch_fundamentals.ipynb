{
  "nbformat": 4,
  "nbformat_minor": 0,
  "metadata": {
    "colab": {
      "provenance": [],
      "gpuType": "T4"
    },
    "kernelspec": {
      "name": "python3",
      "display_name": "Python 3"
    },
    "language_info": {
      "name": "python"
    },
    "accelerator": "GPU"
  },
  "cells": [
    {
      "cell_type": "code",
      "execution_count": null,
      "metadata": {
        "colab": {
          "base_uri": "https://localhost:8080/"
        },
        "id": "OsHZfoGsm52c",
        "outputId": "493b5f37-cd0c-47c3-d62d-1ed9fe824654"
      },
      "outputs": [
        {
          "output_type": "stream",
          "name": "stdout",
          "text": [
            "Thu Jun 27 14:43:58 2024       \n",
            "+---------------------------------------------------------------------------------------+\n",
            "| NVIDIA-SMI 535.104.05             Driver Version: 535.104.05   CUDA Version: 12.2     |\n",
            "|-----------------------------------------+----------------------+----------------------+\n",
            "| GPU  Name                 Persistence-M | Bus-Id        Disp.A | Volatile Uncorr. ECC |\n",
            "| Fan  Temp   Perf          Pwr:Usage/Cap |         Memory-Usage | GPU-Util  Compute M. |\n",
            "|                                         |                      |               MIG M. |\n",
            "|=========================================+======================+======================|\n",
            "|   0  Tesla T4                       Off | 00000000:00:04.0 Off |                    0 |\n",
            "| N/A   47C    P0              27W /  70W |    121MiB / 15360MiB |      0%      Default |\n",
            "|                                         |                      |                  N/A |\n",
            "+-----------------------------------------+----------------------+----------------------+\n",
            "                                                                                         \n",
            "+---------------------------------------------------------------------------------------+\n",
            "| Processes:                                                                            |\n",
            "|  GPU   GI   CI        PID   Type   Process name                            GPU Memory |\n",
            "|        ID   ID                                                             Usage      |\n",
            "|=======================================================================================|\n",
            "+---------------------------------------------------------------------------------------+\n"
          ]
        }
      ],
      "source": [
        "!nvidia-smi"
      ]
    },
    {
      "cell_type": "markdown",
      "source": [
        "https://www.learnpytorch.io/00_pytorch_fundamentals/"
      ],
      "metadata": {
        "id": "5r-dyACPuHcz"
      }
    },
    {
      "cell_type": "code",
      "source": [
        "import torch\n",
        "import pandas as pd\n",
        "import numpy as np\n",
        "import matplotlib.pyplot as plt\n",
        "print(torch.__version__)"
      ],
      "metadata": {
        "colab": {
          "base_uri": "https://localhost:8080/"
        },
        "id": "pj66sN77nb9v",
        "outputId": "a799d16c-6ff8-46fa-8ce8-1b84e78cb78b"
      },
      "execution_count": null,
      "outputs": [
        {
          "output_type": "stream",
          "name": "stdout",
          "text": [
            "2.3.0+cu121\n"
          ]
        }
      ]
    },
    {
      "cell_type": "markdown",
      "source": [
        "#Introduction to tensors\n"
      ],
      "metadata": {
        "id": "usxIHYlBpIUS"
      }
    },
    {
      "cell_type": "markdown",
      "source": [
        "###Creating Tensors"
      ],
      "metadata": {
        "id": "0n_TAMEwpPda"
      }
    },
    {
      "cell_type": "code",
      "source": [
        "#scalar\n",
        "#pytorch tensors are created using torch.tensor()\n",
        "scalar = torch.tensor(7)\n",
        "scalar"
      ],
      "metadata": {
        "colab": {
          "base_uri": "https://localhost:8080/"
        },
        "id": "PKl9CH4ZoHYH",
        "outputId": "fd5955a3-62ff-4a7f-c7b0-8f48be9061d9"
      },
      "execution_count": null,
      "outputs": [
        {
          "output_type": "execute_result",
          "data": {
            "text/plain": [
              "tensor(7)"
            ]
          },
          "metadata": {},
          "execution_count": 90
        }
      ]
    },
    {
      "cell_type": "code",
      "source": [
        "#To get dimensionality\n",
        "scalar.ndim"
      ],
      "metadata": {
        "colab": {
          "base_uri": "https://localhost:8080/"
        },
        "id": "nOB2QNuepgFg",
        "outputId": "0d308225-7a46-46b3-f9db-86af2fe5bdba"
      },
      "execution_count": null,
      "outputs": [
        {
          "output_type": "execute_result",
          "data": {
            "text/plain": [
              "0"
            ]
          },
          "metadata": {},
          "execution_count": 91
        }
      ]
    },
    {
      "cell_type": "code",
      "source": [
        "#To get tensor back as an int\n",
        "scalar.item()"
      ],
      "metadata": {
        "colab": {
          "base_uri": "https://localhost:8080/"
        },
        "id": "mJ9KeBrCp8dK",
        "outputId": "12ccd10a-1ed6-4295-b59b-8cd43905a182"
      },
      "execution_count": null,
      "outputs": [
        {
          "output_type": "execute_result",
          "data": {
            "text/plain": [
              "7"
            ]
          },
          "metadata": {},
          "execution_count": 92
        }
      ]
    },
    {
      "cell_type": "code",
      "source": [
        "#Vector (Magnitude and direction)\n",
        "vector = torch.tensor([7, 7])\n",
        "vector"
      ],
      "metadata": {
        "colab": {
          "base_uri": "https://localhost:8080/"
        },
        "id": "UiNQNmv6qYdp",
        "outputId": "659fbeb5-6381-40c7-efee-d7d3a2bd4e30"
      },
      "execution_count": null,
      "outputs": [
        {
          "output_type": "execute_result",
          "data": {
            "text/plain": [
              "tensor([7, 7])"
            ]
          },
          "metadata": {},
          "execution_count": 93
        }
      ]
    },
    {
      "cell_type": "code",
      "source": [
        "#vector[0]\n",
        "vector.ndim"
      ],
      "metadata": {
        "colab": {
          "base_uri": "https://localhost:8080/"
        },
        "id": "eF5ADl8HqkbM",
        "outputId": "93bd7398-edf9-42c8-8888-2c02352e3859"
      },
      "execution_count": null,
      "outputs": [
        {
          "output_type": "execute_result",
          "data": {
            "text/plain": [
              "1"
            ]
          },
          "metadata": {},
          "execution_count": 94
        }
      ]
    },
    {
      "cell_type": "code",
      "source": [
        "vector.shape"
      ],
      "metadata": {
        "colab": {
          "base_uri": "https://localhost:8080/"
        },
        "id": "XZ4NskRhsFCL",
        "outputId": "a25bf835-0415-486b-e8bd-94b4f2e19e50"
      },
      "execution_count": null,
      "outputs": [
        {
          "output_type": "execute_result",
          "data": {
            "text/plain": [
              "torch.Size([2])"
            ]
          },
          "metadata": {},
          "execution_count": 95
        }
      ]
    },
    {
      "cell_type": "code",
      "source": [
        "#Matrix\n",
        "matrix = torch.tensor([[7, 8],[9, 10]])\n",
        "matrix\n",
        "#In pytorch when we encode data into numbers, it will be of the tensor data type"
      ],
      "metadata": {
        "colab": {
          "base_uri": "https://localhost:8080/"
        },
        "id": "uhZd4QEOsIt2",
        "outputId": "99dc7f84-a462-4dda-ac67-2126bcd7cf68"
      },
      "execution_count": null,
      "outputs": [
        {
          "output_type": "execute_result",
          "data": {
            "text/plain": [
              "tensor([[ 7,  8],\n",
              "        [ 9, 10]])"
            ]
          },
          "metadata": {},
          "execution_count": 96
        }
      ]
    },
    {
      "cell_type": "code",
      "source": [
        "matrix.ndim"
      ],
      "metadata": {
        "colab": {
          "base_uri": "https://localhost:8080/"
        },
        "id": "WM6DG6Vrsdcj",
        "outputId": "dbcb2c5b-1846-4729-b231-42da997fd272"
      },
      "execution_count": null,
      "outputs": [
        {
          "output_type": "execute_result",
          "data": {
            "text/plain": [
              "2"
            ]
          },
          "metadata": {},
          "execution_count": 97
        }
      ]
    },
    {
      "cell_type": "code",
      "source": [
        "matrix.shape"
      ],
      "metadata": {
        "colab": {
          "base_uri": "https://localhost:8080/"
        },
        "id": "ATAj_Ts9spq7",
        "outputId": "76ffe6f3-3aa2-4130-d981-9396f7ada7dc"
      },
      "execution_count": null,
      "outputs": [
        {
          "output_type": "execute_result",
          "data": {
            "text/plain": [
              "torch.Size([2, 2])"
            ]
          },
          "metadata": {},
          "execution_count": 98
        }
      ]
    },
    {
      "cell_type": "code",
      "source": [
        "#To access matrix elements\n",
        "matrix[0]"
      ],
      "metadata": {
        "colab": {
          "base_uri": "https://localhost:8080/"
        },
        "id": "Kmvwiepusq-u",
        "outputId": "5ae32d45-7557-4492-a807-4cbb8c8c6596"
      },
      "execution_count": null,
      "outputs": [
        {
          "output_type": "execute_result",
          "data": {
            "text/plain": [
              "tensor([7, 8])"
            ]
          },
          "metadata": {},
          "execution_count": 99
        }
      ]
    },
    {
      "cell_type": "code",
      "source": [
        "#Tensor\n",
        "tensor = torch.tensor([[[1, 2, 3],\n",
        "                        [3, 6, 9],\n",
        "                        [5, 10, 15]]])\n",
        "tensor"
      ],
      "metadata": {
        "colab": {
          "base_uri": "https://localhost:8080/"
        },
        "id": "3v2TAGLDssam",
        "outputId": "330d31f5-d89a-4fbb-8223-1515e5fa0090"
      },
      "execution_count": null,
      "outputs": [
        {
          "output_type": "execute_result",
          "data": {
            "text/plain": [
              "tensor([[[ 1,  2,  3],\n",
              "         [ 3,  6,  9],\n",
              "         [ 5, 10, 15]]])"
            ]
          },
          "metadata": {},
          "execution_count": 100
        }
      ]
    },
    {
      "cell_type": "code",
      "source": [
        "tensor.ndim"
      ],
      "metadata": {
        "colab": {
          "base_uri": "https://localhost:8080/"
        },
        "id": "KMThaqABtR6d",
        "outputId": "3fdf7a2f-df5c-437a-9224-870d371d0f70"
      },
      "execution_count": null,
      "outputs": [
        {
          "output_type": "execute_result",
          "data": {
            "text/plain": [
              "3"
            ]
          },
          "metadata": {},
          "execution_count": 101
        }
      ]
    },
    {
      "cell_type": "code",
      "source": [
        "tensor.shape"
      ],
      "metadata": {
        "colab": {
          "base_uri": "https://localhost:8080/"
        },
        "id": "DJVXK3h8tfFe",
        "outputId": "a2f10587-1a63-467c-d56e-7e44e7f4419e"
      },
      "execution_count": null,
      "outputs": [
        {
          "output_type": "execute_result",
          "data": {
            "text/plain": [
              "torch.Size([1, 3, 3])"
            ]
          },
          "metadata": {},
          "execution_count": 102
        }
      ]
    },
    {
      "cell_type": "code",
      "source": [
        "tensor[0][1][1]"
      ],
      "metadata": {
        "colab": {
          "base_uri": "https://localhost:8080/"
        },
        "id": "wH0utcistgaW",
        "outputId": "21b1ea91-78be-49e1-fe23-f3599cdf3a26"
      },
      "execution_count": null,
      "outputs": [
        {
          "output_type": "execute_result",
          "data": {
            "text/plain": [
              "tensor(6)"
            ]
          },
          "metadata": {},
          "execution_count": 103
        }
      ]
    },
    {
      "cell_type": "markdown",
      "source": [
        "## Random Tensors\n",
        "\n",
        "Random tensors are important as neural networks start with tensors full of random numbers and then adjust those numbers to better represent the data.\n",
        "\n",
        "Loop:\n",
        "1- Start with random numbers\n",
        "2- Look at data\n",
        "3- Update random numbers"
      ],
      "metadata": {
        "id": "mS9D3dzfqbvu"
      }
    },
    {
      "cell_type": "code",
      "source": [
        "#Creating a random tensor of size (3,4)\n",
        "\n",
        "random_tensor = torch.rand(3, 4)\n",
        "random_tensor"
      ],
      "metadata": {
        "colab": {
          "base_uri": "https://localhost:8080/"
        },
        "id": "I5NsDdJCqo_h",
        "outputId": "83b95b88-e1f1-4eec-ee58-c3162863a7c4"
      },
      "execution_count": null,
      "outputs": [
        {
          "output_type": "execute_result",
          "data": {
            "text/plain": [
              "tensor([[0.1599, 0.8993, 0.2426, 0.5457],\n",
              "        [0.4477, 0.7485, 0.4445, 0.1706],\n",
              "        [0.7116, 0.7681, 0.6658, 0.0713]])"
            ]
          },
          "metadata": {},
          "execution_count": 104
        }
      ]
    },
    {
      "cell_type": "code",
      "source": [
        "random_tensor.ndim"
      ],
      "metadata": {
        "colab": {
          "base_uri": "https://localhost:8080/"
        },
        "id": "fvU67_esrOGQ",
        "outputId": "30c928ea-2ac2-43d0-d868-edbe0fe65f4a"
      },
      "execution_count": null,
      "outputs": [
        {
          "output_type": "execute_result",
          "data": {
            "text/plain": [
              "2"
            ]
          },
          "metadata": {},
          "execution_count": 105
        }
      ]
    },
    {
      "cell_type": "code",
      "source": [
        "#Creating random tensor with a similar shape to an image tensor\n",
        "image_size_tensor = torch.rand(size = (224, 224, 3)) #Height, Width, Colour channels (R, G, B) #writing size is optional, no issue\n",
        "image_size_tensor.ndim, image_size_tensor.shape"
      ],
      "metadata": {
        "colab": {
          "base_uri": "https://localhost:8080/"
        },
        "id": "hwPFga2msYbu",
        "outputId": "d029ed72-4ba1-49f4-e912-78b5109af3db"
      },
      "execution_count": null,
      "outputs": [
        {
          "output_type": "execute_result",
          "data": {
            "text/plain": [
              "(3, torch.Size([224, 224, 3]))"
            ]
          },
          "metadata": {},
          "execution_count": 106
        }
      ]
    },
    {
      "cell_type": "markdown",
      "source": [
        "###0 & 1 Tensors"
      ],
      "metadata": {
        "id": "N1nVUdtfvN61"
      }
    },
    {
      "cell_type": "code",
      "source": [
        "#Creating a tensor of all 0\n",
        "zero_tensor = torch.zeros(3, 4)\n",
        "zero_tensor"
      ],
      "metadata": {
        "colab": {
          "base_uri": "https://localhost:8080/"
        },
        "id": "nq-rmFqhtBYs",
        "outputId": "18f78c0d-d27c-42e6-9e8f-238179c7e441"
      },
      "execution_count": null,
      "outputs": [
        {
          "output_type": "execute_result",
          "data": {
            "text/plain": [
              "tensor([[0., 0., 0., 0.],\n",
              "        [0., 0., 0., 0.],\n",
              "        [0., 0., 0., 0.]])"
            ]
          },
          "metadata": {},
          "execution_count": 107
        }
      ]
    },
    {
      "cell_type": "code",
      "source": [
        "#Creating a tensor of all 1\n",
        "one_tensor = torch.ones(3,4)\n",
        "one_tensor"
      ],
      "metadata": {
        "colab": {
          "base_uri": "https://localhost:8080/"
        },
        "id": "AqBh_AACvWpy",
        "outputId": "d731b7a1-9dcc-45da-ed02-10fc4da9a8ec"
      },
      "execution_count": null,
      "outputs": [
        {
          "output_type": "execute_result",
          "data": {
            "text/plain": [
              "tensor([[1., 1., 1., 1.],\n",
              "        [1., 1., 1., 1.],\n",
              "        [1., 1., 1., 1.]])"
            ]
          },
          "metadata": {},
          "execution_count": 108
        }
      ]
    },
    {
      "cell_type": "code",
      "source": [
        "one_tensor.dtype\n",
        "#default data type is always float 32, we need to explicitly change it if needed."
      ],
      "metadata": {
        "colab": {
          "base_uri": "https://localhost:8080/"
        },
        "id": "x03XGu3CvhWa",
        "outputId": "04da60f5-453f-4c99-c2ef-552f63152eb6"
      },
      "execution_count": null,
      "outputs": [
        {
          "output_type": "execute_result",
          "data": {
            "text/plain": [
              "torch.float32"
            ]
          },
          "metadata": {},
          "execution_count": 109
        }
      ]
    },
    {
      "cell_type": "markdown",
      "source": [
        "###Creating a tensor with a range"
      ],
      "metadata": {
        "id": "Ls_TRiNfwBGI"
      }
    },
    {
      "cell_type": "code",
      "source": [
        "one_to_ten = torch.arange(1, 11) #starting inclusive, ending exclusive\n",
        "print(one_to_ten)\n",
        "torch.arange(start = 5, end = 100, step = 5)"
      ],
      "metadata": {
        "colab": {
          "base_uri": "https://localhost:8080/"
        },
        "id": "GiXUn3N5vlnY",
        "outputId": "e5f786fd-47c9-4718-da49-1c8388a56332"
      },
      "execution_count": null,
      "outputs": [
        {
          "output_type": "stream",
          "name": "stdout",
          "text": [
            "tensor([ 1,  2,  3,  4,  5,  6,  7,  8,  9, 10])\n"
          ]
        },
        {
          "output_type": "execute_result",
          "data": {
            "text/plain": [
              "tensor([ 5, 10, 15, 20, 25, 30, 35, 40, 45, 50, 55, 60, 65, 70, 75, 80, 85, 90,\n",
              "        95])"
            ]
          },
          "metadata": {},
          "execution_count": 110
        }
      ]
    },
    {
      "cell_type": "code",
      "source": [
        "#creating tensors like\n",
        "ten_zeros = torch.zeros_like(input = one_to_ten)\n",
        "ten_zeros"
      ],
      "metadata": {
        "colab": {
          "base_uri": "https://localhost:8080/"
        },
        "id": "9UJou49lwMYL",
        "outputId": "841c221e-41e7-4362-9842-c3afad06e2ff"
      },
      "execution_count": null,
      "outputs": [
        {
          "output_type": "execute_result",
          "data": {
            "text/plain": [
              "tensor([0, 0, 0, 0, 0, 0, 0, 0, 0, 0])"
            ]
          },
          "metadata": {},
          "execution_count": 111
        }
      ]
    },
    {
      "cell_type": "markdown",
      "source": [
        "### Tensor datatypes\n",
        "\n",
        "Note : Tensor datatypes is one of the three main common issues you run into in pytorch\n",
        "\n",
        "1. Tensors not right datatype\n",
        "2. Tensors not right shape\n",
        "3. Tensors not on right device e.g 1 tensor on gpu and 1 tensor on cpu, will lead to error\n",
        "\n"
      ],
      "metadata": {
        "id": "3BcP6tmC1W-J"
      }
    },
    {
      "cell_type": "code",
      "source": [
        "#Float 32 tensor\n",
        "float_32_tensor = torch.tensor([1.0, 2.0, 3.0],\n",
        "                               dtype = None, #what datatype is the tensor e.g float32, float16\n",
        "                               device = \"cuda\", #where tensor is going to be located\n",
        "                               requires_grad = False) #Wheter or not to track gradients with this tensors operations.\n",
        "float_32_tensor, float_32_tensor.dtype"
      ],
      "metadata": {
        "colab": {
          "base_uri": "https://localhost:8080/"
        },
        "id": "9q-VpADh0zeN",
        "outputId": "3f08b573-551e-4ddf-e9ac-ca5bc44a27fa"
      },
      "execution_count": null,
      "outputs": [
        {
          "output_type": "execute_result",
          "data": {
            "text/plain": [
              "(tensor([1., 2., 3.], device='cuda:0'), torch.float32)"
            ]
          },
          "metadata": {},
          "execution_count": 112
        }
      ]
    },
    {
      "cell_type": "code",
      "source": [
        "#Changing datatype of a tensor\n",
        "float_16_tensor = float_32_tensor.type(torch.float16)\n",
        "float_16_tensor"
      ],
      "metadata": {
        "colab": {
          "base_uri": "https://localhost:8080/"
        },
        "id": "Lu6Cd32o1slH",
        "outputId": "c8dfe234-ae23-42ec-f316-17834575ce33"
      },
      "execution_count": null,
      "outputs": [
        {
          "output_type": "execute_result",
          "data": {
            "text/plain": [
              "tensor([1., 2., 3.], device='cuda:0', dtype=torch.float16)"
            ]
          },
          "metadata": {},
          "execution_count": 113
        }
      ]
    },
    {
      "cell_type": "code",
      "source": [
        "float_16_tensor * float_32_tensor"
      ],
      "metadata": {
        "colab": {
          "base_uri": "https://localhost:8080/"
        },
        "id": "-tTMiyOb-DJX",
        "outputId": "e219e66d-def6-49f7-81bd-b6a6c13ce8c8"
      },
      "execution_count": null,
      "outputs": [
        {
          "output_type": "execute_result",
          "data": {
            "text/plain": [
              "tensor([1., 4., 9.], device='cuda:0')"
            ]
          },
          "metadata": {},
          "execution_count": 114
        }
      ]
    },
    {
      "cell_type": "code",
      "source": [
        "int_32_tensor = torch.tensor([3,6,9],\n",
        "                             dtype = torch.int32,\n",
        "                             device = \"cuda\")\n",
        "int_32_tensor"
      ],
      "metadata": {
        "colab": {
          "base_uri": "https://localhost:8080/"
        },
        "id": "KO6cljcW-SoN",
        "outputId": "2505935b-0756-4149-8b50-7320d1057dba"
      },
      "execution_count": null,
      "outputs": [
        {
          "output_type": "execute_result",
          "data": {
            "text/plain": [
              "tensor([3, 6, 9], device='cuda:0', dtype=torch.int32)"
            ]
          },
          "metadata": {},
          "execution_count": 115
        }
      ]
    },
    {
      "cell_type": "code",
      "source": [
        "float_32_tensor * int_32_tensor"
      ],
      "metadata": {
        "colab": {
          "base_uri": "https://localhost:8080/"
        },
        "id": "gWkCRgihTyUl",
        "outputId": "08ea18df-34a8-4e16-c950-ffc857545df9"
      },
      "execution_count": null,
      "outputs": [
        {
          "output_type": "execute_result",
          "data": {
            "text/plain": [
              "tensor([ 3., 12., 27.], device='cuda:0')"
            ]
          },
          "metadata": {},
          "execution_count": 116
        }
      ]
    },
    {
      "cell_type": "markdown",
      "source": [
        "### Getting information from tensors (Tensor attributes)\n",
        "1. To get the datatype, use tensor.dtype\n",
        "2. To get the shape, use tensor.shape\n",
        "3.To get the device, use tensor.device\n"
      ],
      "metadata": {
        "id": "t3qjqlq0UvQJ"
      }
    },
    {
      "cell_type": "code",
      "source": [
        "info_tensor = torch.rand(3, 4,\n",
        "                         dtype = torch.float32,\n",
        "                         device = \"cuda\")\n",
        "info_tensor"
      ],
      "metadata": {
        "colab": {
          "base_uri": "https://localhost:8080/"
        },
        "id": "OjGGOUKaT8Xj",
        "outputId": "a4a7b298-95ec-4ed3-dafd-9501080888c8"
      },
      "execution_count": null,
      "outputs": [
        {
          "output_type": "execute_result",
          "data": {
            "text/plain": [
              "tensor([[0.7588, 0.4904, 0.2327, 0.6310],\n",
              "        [0.5165, 0.2850, 0.7170, 0.1042],\n",
              "        [0.9143, 0.7350, 0.8542, 0.3963]], device='cuda:0')"
            ]
          },
          "metadata": {},
          "execution_count": 117
        }
      ]
    },
    {
      "cell_type": "code",
      "source": [
        "print(info_tensor)\n",
        "print(f\"Datatype of tensor : {info_tensor.dtype}\")\n",
        "print(f\"Shape of tensor: {info_tensor.shape}\")\n",
        "print(f\"Device of tensor: {info_tensor.device}\")"
      ],
      "metadata": {
        "colab": {
          "base_uri": "https://localhost:8080/"
        },
        "id": "itvu8PcEVMUU",
        "outputId": "ab0f9776-a218-42d3-ea25-d9bf98b4a834"
      },
      "execution_count": null,
      "outputs": [
        {
          "output_type": "stream",
          "name": "stdout",
          "text": [
            "tensor([[0.7588, 0.4904, 0.2327, 0.6310],\n",
            "        [0.5165, 0.2850, 0.7170, 0.1042],\n",
            "        [0.9143, 0.7350, 0.8542, 0.3963]], device='cuda:0')\n",
            "Datatype of tensor : torch.float32\n",
            "Shape of tensor: torch.Size([3, 4])\n",
            "Device of tensor: cuda:0\n"
          ]
        }
      ]
    },
    {
      "cell_type": "markdown",
      "source": [
        "###Manipulating Tensors (Tensor Operations)\n",
        "1. Addition\n",
        "2. Subtraction\n",
        "3. Multiplication(Element-wise)\n",
        "4. Matrix Multiplication"
      ],
      "metadata": {
        "id": "mak9l7oeXD3W"
      }
    },
    {
      "cell_type": "code",
      "source": [
        "operation_tensor = torch.tensor([1, 2, 3])\n",
        "operation_tensor.dtype, operation_tensor + 10 #new values not assigned to tensor."
      ],
      "metadata": {
        "colab": {
          "base_uri": "https://localhost:8080/"
        },
        "id": "_4W7lG9oVw9W",
        "outputId": "d5234bf9-2f2e-4c95-ccd1-6530c6485cd1"
      },
      "execution_count": null,
      "outputs": [
        {
          "output_type": "execute_result",
          "data": {
            "text/plain": [
              "(torch.int64, tensor([11, 12, 13]))"
            ]
          },
          "metadata": {},
          "execution_count": 119
        }
      ]
    },
    {
      "cell_type": "code",
      "source": [
        "operation_tensor * 10"
      ],
      "metadata": {
        "colab": {
          "base_uri": "https://localhost:8080/"
        },
        "id": "og0qmQ7sXsfR",
        "outputId": "c974c5dd-53a0-4ec5-eafc-01f629f90a0b"
      },
      "execution_count": null,
      "outputs": [
        {
          "output_type": "execute_result",
          "data": {
            "text/plain": [
              "tensor([10, 20, 30])"
            ]
          },
          "metadata": {},
          "execution_count": 120
        }
      ]
    },
    {
      "cell_type": "code",
      "source": [
        "operation_tensor - 1"
      ],
      "metadata": {
        "colab": {
          "base_uri": "https://localhost:8080/"
        },
        "id": "ZLMSlDjmYB52",
        "outputId": "e291ec13-2b15-4edb-efb1-7348fcd1de74"
      },
      "execution_count": null,
      "outputs": [
        {
          "output_type": "execute_result",
          "data": {
            "text/plain": [
              "tensor([0, 1, 2])"
            ]
          },
          "metadata": {},
          "execution_count": 121
        }
      ]
    },
    {
      "cell_type": "code",
      "source": [
        "operation_tensor = torch.mul(operation_tensor,2) #Element-wise Multiplication\n",
        "operation_tensor"
      ],
      "metadata": {
        "colab": {
          "base_uri": "https://localhost:8080/"
        },
        "id": "LIiT8663YN0y",
        "outputId": "c9809ef6-c701-456f-8229-c319a3e4aab3"
      },
      "execution_count": null,
      "outputs": [
        {
          "output_type": "execute_result",
          "data": {
            "text/plain": [
              "tensor([2, 4, 6])"
            ]
          },
          "metadata": {},
          "execution_count": 122
        }
      ]
    },
    {
      "cell_type": "code",
      "source": [
        "operation_tensor = torch.div(operation_tensor, 2)\n",
        "operation_tensor"
      ],
      "metadata": {
        "colab": {
          "base_uri": "https://localhost:8080/"
        },
        "id": "7OydSqp-bD2o",
        "outputId": "683828a0-330c-4d44-83f3-73d782319ce1"
      },
      "execution_count": null,
      "outputs": [
        {
          "output_type": "execute_result",
          "data": {
            "text/plain": [
              "tensor([1., 2., 3.])"
            ]
          },
          "metadata": {},
          "execution_count": 123
        }
      ]
    },
    {
      "cell_type": "code",
      "source": [
        "#Element-wise multiplication\n",
        "print(operation_tensor)\n",
        "operation_tensor * operation_tensor #Multiplying the tensor by itself"
      ],
      "metadata": {
        "colab": {
          "base_uri": "https://localhost:8080/"
        },
        "id": "7iabAV4WYU0-",
        "outputId": "61f52be7-c1ae-41b2-ea77-621b660999fd"
      },
      "execution_count": null,
      "outputs": [
        {
          "output_type": "stream",
          "name": "stdout",
          "text": [
            "tensor([1., 2., 3.])\n"
          ]
        },
        {
          "output_type": "execute_result",
          "data": {
            "text/plain": [
              "tensor([1., 4., 9.])"
            ]
          },
          "metadata": {},
          "execution_count": 124
        }
      ]
    },
    {
      "cell_type": "code",
      "source": [
        "#Matrix Multiplication (Dot-Product)\n",
        "print(f\"The original tensor is {operation_tensor}\")\n",
        "torch.matmul(operation_tensor, operation_tensor)\n",
        "# 1x1 + 2x2 + 3x3 = 14 (Every row is multiplied by every column)"
      ],
      "metadata": {
        "colab": {
          "base_uri": "https://localhost:8080/"
        },
        "id": "-elkpw9eaa7p",
        "outputId": "7a06d619-17e6-4e55-aced-61250f2beb6f"
      },
      "execution_count": null,
      "outputs": [
        {
          "output_type": "stream",
          "name": "stdout",
          "text": [
            "The original tensor is tensor([1., 2., 3.])\n"
          ]
        },
        {
          "output_type": "execute_result",
          "data": {
            "text/plain": [
              "tensor(14.)"
            ]
          },
          "metadata": {},
          "execution_count": 125
        }
      ]
    },
    {
      "cell_type": "code",
      "source": [
        "#Manual matrix multiplication\n",
        "%%time\n",
        "value = 0\n",
        "for i in range(len(operation_tensor)):\n",
        "  value = value + (operation_tensor[i] * operation_tensor[i])\n",
        "print(value)"
      ],
      "metadata": {
        "colab": {
          "base_uri": "https://localhost:8080/"
        },
        "id": "44yUDZOEa-ud",
        "outputId": "04ff99b0-a2b8-4776-8956-659c0beb6d45"
      },
      "execution_count": null,
      "outputs": [
        {
          "output_type": "stream",
          "name": "stdout",
          "text": [
            "tensor(14.)\n",
            "CPU times: user 857 µs, sys: 955 µs, total: 1.81 ms\n",
            "Wall time: 2.51 ms\n"
          ]
        }
      ]
    },
    {
      "cell_type": "code",
      "source": [
        "%%time\n",
        "torch.matmul(operation_tensor, operation_tensor)\n",
        "#Much faster"
      ],
      "metadata": {
        "colab": {
          "base_uri": "https://localhost:8080/"
        },
        "id": "ahuYzIqnxz3r",
        "outputId": "197c17d2-5204-423d-8148-3c7e0ef519c2"
      },
      "execution_count": null,
      "outputs": [
        {
          "output_type": "stream",
          "name": "stdout",
          "text": [
            "CPU times: user 38 µs, sys: 0 ns, total: 38 µs\n",
            "Wall time: 40.8 µs\n"
          ]
        },
        {
          "output_type": "execute_result",
          "data": {
            "text/plain": [
              "tensor(14.)"
            ]
          },
          "metadata": {},
          "execution_count": 127
        }
      ]
    },
    {
      "cell_type": "markdown",
      "source": [
        "###Rules for matrix multiplication:\n",
        "Rule 1. **Inner Dimensions** must match\n",
        "* `(3, 2) @ (3, 2)` won't work\n",
        "* `(2, 3) @ (3, 2)` will work\n",
        "* `(3, 2) @ (2, 3)` will work\n",
        "* (@ is a symbol for matrix multiplication)"
      ],
      "metadata": {
        "id": "dybxC9870J1n"
      }
    },
    {
      "cell_type": "code",
      "source": [
        "torch.matmul(torch.rand(3,2), torch.rand(3,2)) #will not work. 3 rows 2 columns for both matrices, imagine it Inner dimension mismatch"
      ],
      "metadata": {
        "colab": {
          "base_uri": "https://localhost:8080/",
          "height": 146
        },
        "id": "1Az4hQXGyJH9",
        "outputId": "ee743208-717c-49fc-9ac2-0ae622acc8f6"
      },
      "execution_count": null,
      "outputs": [
        {
          "output_type": "error",
          "ename": "RuntimeError",
          "evalue": "mat1 and mat2 shapes cannot be multiplied (3x2 and 3x2)",
          "traceback": [
            "\u001b[0;31m---------------------------------------------------------------------------\u001b[0m",
            "\u001b[0;31mRuntimeError\u001b[0m                              Traceback (most recent call last)",
            "\u001b[0;32m<ipython-input-129-49464c20575c>\u001b[0m in \u001b[0;36m<cell line: 1>\u001b[0;34m()\u001b[0m\n\u001b[0;32m----> 1\u001b[0;31m \u001b[0mtorch\u001b[0m\u001b[0;34m.\u001b[0m\u001b[0mmatmul\u001b[0m\u001b[0;34m(\u001b[0m\u001b[0mtorch\u001b[0m\u001b[0;34m.\u001b[0m\u001b[0mrand\u001b[0m\u001b[0;34m(\u001b[0m\u001b[0;36m3\u001b[0m\u001b[0;34m,\u001b[0m\u001b[0;36m2\u001b[0m\u001b[0;34m)\u001b[0m\u001b[0;34m,\u001b[0m \u001b[0mtorch\u001b[0m\u001b[0;34m.\u001b[0m\u001b[0mrand\u001b[0m\u001b[0;34m(\u001b[0m\u001b[0;36m3\u001b[0m\u001b[0;34m,\u001b[0m\u001b[0;36m2\u001b[0m\u001b[0;34m)\u001b[0m\u001b[0;34m)\u001b[0m \u001b[0;31m#will not work. 3 rows 2 columns for both matrices, imagine it Inner dimension mismatch\u001b[0m\u001b[0;34m\u001b[0m\u001b[0;34m\u001b[0m\u001b[0m\n\u001b[0m",
            "\u001b[0;31mRuntimeError\u001b[0m: mat1 and mat2 shapes cannot be multiplied (3x2 and 3x2)"
          ]
        }
      ]
    },
    {
      "cell_type": "code",
      "source": [
        "torch.matmul(torch.rand(2,3), torch.rand(3,2)) #Inner dimensions match ... 3, 3"
      ],
      "metadata": {
        "colab": {
          "base_uri": "https://localhost:8080/"
        },
        "id": "0j4qxv1W1ARB",
        "outputId": "add29a49-c68c-4032-9909-43ab4be99f2b"
      },
      "execution_count": null,
      "outputs": [
        {
          "output_type": "execute_result",
          "data": {
            "text/plain": [
              "tensor([[0.6390, 0.6704],\n",
              "        [0.8761, 0.9698]])"
            ]
          },
          "metadata": {},
          "execution_count": 130
        }
      ]
    },
    {
      "cell_type": "markdown",
      "source": [
        "Rule 2. Resulting matrix has the shape of the **Outer Dimension**\n",
        "* `(2, 3) @ (3, 2)` --> `(2, 2)` (Outer dimension is 2)\n",
        "* `(3, 2) @ (2, 3)` --> `(3, 3)` (Outer dimension is 3)"
      ],
      "metadata": {
        "id": "jvvkNSXE2ZRK"
      }
    },
    {
      "cell_type": "code",
      "source": [
        "rule_tensor = torch.matmul(torch.rand(3,2), torch.rand(2,3)) #Inner dimesions match ... 2, 2\n",
        "print(rule_tensor)\n",
        "print(rule_tensor.shape) # The resulting shape is (3, 3) as the outer dimension was 3"
      ],
      "metadata": {
        "colab": {
          "base_uri": "https://localhost:8080/"
        },
        "id": "nJcVIrEB2K2h",
        "outputId": "4ce83e1f-56a9-408e-f159-93c553238248"
      },
      "execution_count": null,
      "outputs": [
        {
          "output_type": "stream",
          "name": "stdout",
          "text": [
            "tensor([[0.2607, 1.0321, 0.3917],\n",
            "        [0.1623, 0.4425, 0.1624],\n",
            "        [0.1453, 0.6054, 0.2306]])\n",
            "torch.Size([3, 3])\n"
          ]
        }
      ]
    },
    {
      "cell_type": "markdown",
      "source": [
        "###**Shape Errors**"
      ],
      "metadata": {
        "id": "hAmrQ81z4tuf"
      }
    },
    {
      "cell_type": "code",
      "source": [
        "tensor_A = torch.tensor([[1, 2],\n",
        "                         [3, 4],\n",
        "                         [5, 6]])\n",
        "\n",
        "tensor_B = torch.tensor([[7, 10],\n",
        "                         [8, 11],\n",
        "                         [9, 12]])\n",
        "\n",
        "print(f\"The shapes of the tensors are {tensor_A.shape}, {tensor_B.shape}\")\n",
        "print(\"The inner dimesions don't match so there will be an error.\")\n",
        "torch.matmul(tensor_A, tensor_B)"
      ],
      "metadata": {
        "colab": {
          "base_uri": "https://localhost:8080/",
          "height": 218
        },
        "id": "8kyGYP_k3qB5",
        "outputId": "719d5cdc-4bd4-49a7-b045-9aadda21f2c7"
      },
      "execution_count": null,
      "outputs": [
        {
          "output_type": "stream",
          "name": "stdout",
          "text": [
            "The shapes of the tensors are torch.Size([3, 2]), torch.Size([3, 2])\n",
            "The inner dimesions don't match so there will be an error.\n"
          ]
        },
        {
          "output_type": "error",
          "ename": "RuntimeError",
          "evalue": "mat1 and mat2 shapes cannot be multiplied (3x2 and 3x2)",
          "traceback": [
            "\u001b[0;31m---------------------------------------------------------------------------\u001b[0m",
            "\u001b[0;31mRuntimeError\u001b[0m                              Traceback (most recent call last)",
            "\u001b[0;32m<ipython-input-132-b8f52686ad06>\u001b[0m in \u001b[0;36m<cell line: 11>\u001b[0;34m()\u001b[0m\n\u001b[1;32m      9\u001b[0m \u001b[0mprint\u001b[0m\u001b[0;34m(\u001b[0m\u001b[0;34mf\"The shapes of the tensors are {tensor_A.shape}, {tensor_B.shape}\"\u001b[0m\u001b[0;34m)\u001b[0m\u001b[0;34m\u001b[0m\u001b[0;34m\u001b[0m\u001b[0m\n\u001b[1;32m     10\u001b[0m \u001b[0mprint\u001b[0m\u001b[0;34m(\u001b[0m\u001b[0;34m\"The inner dimesions don't match so there will be an error.\"\u001b[0m\u001b[0;34m)\u001b[0m\u001b[0;34m\u001b[0m\u001b[0;34m\u001b[0m\u001b[0m\n\u001b[0;32m---> 11\u001b[0;31m \u001b[0mtorch\u001b[0m\u001b[0;34m.\u001b[0m\u001b[0mmatmul\u001b[0m\u001b[0;34m(\u001b[0m\u001b[0mtensor_A\u001b[0m\u001b[0;34m,\u001b[0m \u001b[0mtensor_B\u001b[0m\u001b[0;34m)\u001b[0m\u001b[0;34m\u001b[0m\u001b[0;34m\u001b[0m\u001b[0m\n\u001b[0m",
            "\u001b[0;31mRuntimeError\u001b[0m: mat1 and mat2 shapes cannot be multiplied (3x2 and 3x2)"
          ]
        }
      ]
    },
    {
      "cell_type": "markdown",
      "source": [
        "* To fix our shape issues, we can manipulate the shape of one of our tensors using transpose.\n",
        "*A transpose switches the axis or dimensions of a given tensor."
      ],
      "metadata": {
        "id": "cwyquCJX6SnC"
      }
    },
    {
      "cell_type": "code",
      "source": [
        "print(\"Tensor B before transpose is :\")\n",
        "print(tensor_B)\n",
        "print(\"\\nShape of tensor B before transpose is :\")\n",
        "print(tensor_B.shape)\n",
        "print(\"\\nTensor B after tranpose is :\")\n",
        "tensor_B = tensor_B.T\n",
        "print(tensor_B)\n",
        "print(\"\\nShape of tensor B after transpose is :\")\n",
        "print(tensor_B.shape)"
      ],
      "metadata": {
        "colab": {
          "base_uri": "https://localhost:8080/"
        },
        "id": "BF4YD1qy6DPf",
        "outputId": "4b204706-d08f-4257-8cbd-41fa06fc2a55"
      },
      "execution_count": null,
      "outputs": [
        {
          "output_type": "stream",
          "name": "stdout",
          "text": [
            "Tensor B before transpose is :\n",
            "tensor([[ 7, 10],\n",
            "        [ 8, 11],\n",
            "        [ 9, 12]])\n",
            "\n",
            "Shape of tensor B before transpose is :\n",
            "torch.Size([3, 2])\n",
            "\n",
            "Tensor B after tranpose is :\n",
            "tensor([[ 7,  8,  9],\n",
            "        [10, 11, 12]])\n",
            "\n",
            "Shape of tensor B after transpose is :\n",
            "torch.Size([2, 3])\n"
          ]
        }
      ]
    },
    {
      "cell_type": "code",
      "source": [
        "print(f\"Tensor A is:\\n {tensor_A}\")\n",
        "print(f\"\\nTensor B is: \\n {tensor_B}\")\n",
        "\n",
        "tensor_C = torch.matmul(tensor_A, tensor_B) #Will get a different answer if we flip tensor_A and tensor_B\n",
        "print(f\"\\nThe answer of multiplying tensor_A and tensor_B is:\\n {tensor_C}\")\n",
        "print(f\"The shape of the resulting tensor C is {tensor_C.shape}\")"
      ],
      "metadata": {
        "colab": {
          "base_uri": "https://localhost:8080/"
        },
        "id": "VoPLuPNg6qhl",
        "outputId": "c1fa4beb-4f44-48a7-e484-3de9dfd87f67"
      },
      "execution_count": null,
      "outputs": [
        {
          "output_type": "stream",
          "name": "stdout",
          "text": [
            "Tensor A is:\n",
            " tensor([[1, 2],\n",
            "        [3, 4],\n",
            "        [5, 6]])\n",
            "\n",
            "Tensor B is: \n",
            " tensor([[ 7,  8,  9],\n",
            "        [10, 11, 12]])\n",
            "\n",
            "The answer of multiplying tensor_A and tensor_B is:\n",
            " tensor([[ 27,  30,  33],\n",
            "        [ 61,  68,  75],\n",
            "        [ 95, 106, 117]])\n",
            "The shape of the resulting tensor C is torch.Size([3, 3])\n"
          ]
        }
      ]
    },
    {
      "cell_type": "markdown",
      "source": [
        "###Finding the min, max, mean, sum of tensors (Tensor aggregation)"
      ],
      "metadata": {
        "id": "dYgH1jnbFU1-"
      }
    },
    {
      "cell_type": "code",
      "source": [
        "aggregation_tensor = torch.arange(0, 100, 10)\n",
        "aggregation_tensor, aggregation_tensor.dtype"
      ],
      "metadata": {
        "colab": {
          "base_uri": "https://localhost:8080/"
        },
        "id": "nCzZ8Rpw9mDi",
        "outputId": "7b0faf22-bba4-4e32-d82a-19a28db4f00c"
      },
      "execution_count": null,
      "outputs": [
        {
          "output_type": "execute_result",
          "data": {
            "text/plain": [
              "(tensor([ 0, 10, 20, 30, 40, 50, 60, 70, 80, 90]), torch.int64)"
            ]
          },
          "metadata": {},
          "execution_count": 135
        }
      ]
    },
    {
      "cell_type": "code",
      "source": [
        "#Finding the min\n",
        "aggregation_tensor.min(), torch.min(aggregation_tensor)"
      ],
      "metadata": {
        "colab": {
          "base_uri": "https://localhost:8080/"
        },
        "id": "9y1k98NlFvME",
        "outputId": "fc6f4b7d-fd05-4b89-89a5-30536ff87afb"
      },
      "execution_count": null,
      "outputs": [
        {
          "output_type": "execute_result",
          "data": {
            "text/plain": [
              "(tensor(0), tensor(0))"
            ]
          },
          "metadata": {},
          "execution_count": 136
        }
      ]
    },
    {
      "cell_type": "code",
      "source": [
        "#Finding the max\n",
        "aggregation_tensor.max(), torch.max(aggregation_tensor)"
      ],
      "metadata": {
        "colab": {
          "base_uri": "https://localhost:8080/"
        },
        "id": "GctGLIhVF2qO",
        "outputId": "3abe9d2b-8c93-462f-ed1b-6e061d8326cd"
      },
      "execution_count": null,
      "outputs": [
        {
          "output_type": "execute_result",
          "data": {
            "text/plain": [
              "(tensor(90), tensor(90))"
            ]
          },
          "metadata": {},
          "execution_count": 137
        }
      ]
    },
    {
      "cell_type": "code",
      "source": [
        "#Finding the meam\n",
        "torch.mean(aggregation_tensor)"
      ],
      "metadata": {
        "colab": {
          "base_uri": "https://localhost:8080/",
          "height": 164
        },
        "id": "fvyXYsTJF9Lg",
        "outputId": "799a033f-f0df-4e6c-f6c4-5a585dead12b"
      },
      "execution_count": null,
      "outputs": [
        {
          "output_type": "error",
          "ename": "RuntimeError",
          "evalue": "mean(): could not infer output dtype. Input dtype must be either a floating point or complex dtype. Got: Long",
          "traceback": [
            "\u001b[0;31m---------------------------------------------------------------------------\u001b[0m",
            "\u001b[0;31mRuntimeError\u001b[0m                              Traceback (most recent call last)",
            "\u001b[0;32m<ipython-input-138-c60e69b02747>\u001b[0m in \u001b[0;36m<cell line: 2>\u001b[0;34m()\u001b[0m\n\u001b[1;32m      1\u001b[0m \u001b[0;31m#Finding the meam\u001b[0m\u001b[0;34m\u001b[0m\u001b[0;34m\u001b[0m\u001b[0m\n\u001b[0;32m----> 2\u001b[0;31m \u001b[0mtorch\u001b[0m\u001b[0;34m.\u001b[0m\u001b[0mmean\u001b[0m\u001b[0;34m(\u001b[0m\u001b[0maggregation_tensor\u001b[0m\u001b[0;34m)\u001b[0m\u001b[0;34m\u001b[0m\u001b[0;34m\u001b[0m\u001b[0m\n\u001b[0m",
            "\u001b[0;31mRuntimeError\u001b[0m: mean(): could not infer output dtype. Input dtype must be either a floating point or complex dtype. Got: Long"
          ]
        }
      ]
    },
    {
      "cell_type": "code",
      "source": [
        "#We need to change the datatype as mean requires a tensor of datatype torch.float32\n",
        "torch.mean(aggregation_tensor.type(torch.float32))"
      ],
      "metadata": {
        "colab": {
          "base_uri": "https://localhost:8080/"
        },
        "id": "nVx3ZFmbGOKa",
        "outputId": "a051478e-41ac-4677-aca9-577a58da268d"
      },
      "execution_count": null,
      "outputs": [
        {
          "output_type": "execute_result",
          "data": {
            "text/plain": [
              "tensor(45.)"
            ]
          },
          "metadata": {},
          "execution_count": 139
        }
      ]
    },
    {
      "cell_type": "code",
      "source": [
        "#Finding the sum\n",
        "torch.sum(aggregation_tensor)"
      ],
      "metadata": {
        "colab": {
          "base_uri": "https://localhost:8080/"
        },
        "id": "72QOjTjUGpwH",
        "outputId": "84757b2f-6398-4e08-ba7e-4041f223edf8"
      },
      "execution_count": null,
      "outputs": [
        {
          "output_type": "execute_result",
          "data": {
            "text/plain": [
              "tensor(450)"
            ]
          },
          "metadata": {},
          "execution_count": 140
        }
      ]
    },
    {
      "cell_type": "markdown",
      "source": [
        "###Finding the positional min and max (Index Value)"
      ],
      "metadata": {
        "id": "Bf1DkVuDHdKv"
      }
    },
    {
      "cell_type": "code",
      "source": [
        "#Finding the positional min\n",
        "torch.argmin(aggregation_tensor)"
      ],
      "metadata": {
        "colab": {
          "base_uri": "https://localhost:8080/"
        },
        "id": "eBpnW77tG-g3",
        "outputId": "7704d21c-c5cc-44aa-931f-fe71d3a59b18"
      },
      "execution_count": null,
      "outputs": [
        {
          "output_type": "execute_result",
          "data": {
            "text/plain": [
              "tensor(0)"
            ]
          },
          "metadata": {},
          "execution_count": 141
        }
      ]
    },
    {
      "cell_type": "code",
      "source": [
        "#Finding the positional max\n",
        "torch.argmax(aggregation_tensor)"
      ],
      "metadata": {
        "colab": {
          "base_uri": "https://localhost:8080/"
        },
        "id": "rgikAyAjHl1l",
        "outputId": "d179e8ee-9566-46ea-fa20-2ceec69e4f9e"
      },
      "execution_count": null,
      "outputs": [
        {
          "output_type": "execute_result",
          "data": {
            "text/plain": [
              "tensor(9)"
            ]
          },
          "metadata": {},
          "execution_count": 142
        }
      ]
    },
    {
      "cell_type": "markdown",
      "source": [
        "##Reshaping, stacking, squeezing and unsqueezing tensors\n",
        "\n",
        "* Reshaping - reshapes an input tensor to a defined shape\n",
        "* View - return a view of an input tensor of a certain shape but keep the same memory as the original tensor\n",
        "* Stacking - combine multiple tensors on top of each other (vstack) or side by side (hstack)\n",
        "* Squeeze - removes all `1` dimensions from the tensor\n",
        "* UnSqueeze - adds a `1` dimension to the target tensor\n",
        "* Permute - Return a view of the tensor with the dimensions permuted (swapped) in a certain way"
      ],
      "metadata": {
        "id": "_PpoNJvwKKOG"
      }
    },
    {
      "cell_type": "code",
      "source": [
        "import torch\n",
        "x = torch.arange(1., 10.)\n",
        "x, x.shape, x.ndim"
      ],
      "metadata": {
        "colab": {
          "base_uri": "https://localhost:8080/"
        },
        "id": "L_B1LeN_Hr21",
        "outputId": "ad407a71-3858-4884-c2ae-b380d7b30322"
      },
      "execution_count": null,
      "outputs": [
        {
          "output_type": "execute_result",
          "data": {
            "text/plain": [
              "(tensor([1., 2., 3., 4., 5., 6., 7., 8., 9.]), torch.Size([9]), 1)"
            ]
          },
          "metadata": {},
          "execution_count": 2
        }
      ]
    },
    {
      "cell_type": "code",
      "source": [
        "#Adding an extra dimension\n",
        "x_reshaped = x.reshape(1, 9)\n",
        "print(x_reshaped, x_reshaped.shape)\n",
        "x_reshaped2 = x.reshape(9, 1) #The two numbers should multiply to become the size of the original tensor e.g 1x9 = 9, 9x1 = 9, 3x3 = 9\n",
        "x_reshaped2, x_reshaped2.shape"
      ],
      "metadata": {
        "colab": {
          "base_uri": "https://localhost:8080/"
        },
        "id": "BRPCkSOWL9ti",
        "outputId": "0b489763-f4e3-44fe-8525-ef7019560af6"
      },
      "execution_count": null,
      "outputs": [
        {
          "output_type": "stream",
          "name": "stdout",
          "text": [
            "tensor([[1., 2., 3., 4., 5., 6., 7., 8., 9.]]) torch.Size([1, 9])\n"
          ]
        },
        {
          "output_type": "execute_result",
          "data": {
            "text/plain": [
              "(tensor([[1.],\n",
              "         [2.],\n",
              "         [3.],\n",
              "         [4.],\n",
              "         [5.],\n",
              "         [6.],\n",
              "         [7.],\n",
              "         [8.],\n",
              "         [9.]]),\n",
              " torch.Size([9, 1]))"
            ]
          },
          "metadata": {},
          "execution_count": 4
        }
      ]
    },
    {
      "cell_type": "code",
      "source": [
        "#Change the view\n",
        "z = x.view(1, 9)\n",
        "z, z.shape"
      ],
      "metadata": {
        "colab": {
          "base_uri": "https://localhost:8080/"
        },
        "id": "aOsjWqA5MVfa",
        "outputId": "20553ea2-520f-4939-b3f6-072a50f10d6d"
      },
      "execution_count": null,
      "outputs": [
        {
          "output_type": "execute_result",
          "data": {
            "text/plain": [
              "(tensor([[1., 2., 3., 4., 5., 6., 7., 8., 9.]]), torch.Size([1, 9]))"
            ]
          },
          "metadata": {},
          "execution_count": 5
        }
      ]
    },
    {
      "cell_type": "code",
      "source": [
        "#Changing z will change x (because view of a tensor shares the same memory as the original)\n",
        "z[0,0] = 5\n",
        "z, x"
      ],
      "metadata": {
        "colab": {
          "base_uri": "https://localhost:8080/"
        },
        "id": "tHv90To64Wrg",
        "outputId": "36e352b1-bff6-499c-f6f3-16704e680e3a"
      },
      "execution_count": null,
      "outputs": [
        {
          "output_type": "execute_result",
          "data": {
            "text/plain": [
              "(tensor([[5., 2., 3., 4., 5., 6., 7., 8., 9.]]),\n",
              " tensor([5., 2., 3., 4., 5., 6., 7., 8., 9.]))"
            ]
          },
          "metadata": {},
          "execution_count": 13
        }
      ]
    },
    {
      "cell_type": "code",
      "source": [
        "#Stack tensors on top of each other\n",
        "x_vstacked = torch.stack([x, x, x, x], dim = 0) #vertical stack dimensionality = 0 (row wise)\n",
        "print(x_vstacked)\n",
        "x_vstacked2 = torch.vstack([x, x, x, x])\n",
        "print(f\"\\n{x_vstacked2}\")\n",
        "\n",
        "x_hstacked = torch.stack([x, x, x, x], dim = 1) #horizontal stack dimenstionality = 1 (column wise)\n",
        "print(f\"\\n{x_hstacked}\")\n",
        "x_hstacked2 = torch.hstack([x, x, x, x])\n",
        "#hstack: Stack tensors in sequence horizontally (column wise).\n",
        "#This is equivalent to concatenation along the first axis for 1-D tensors, and along the second axis for all other tensors.\n",
        "print(f\"\\n{x_hstacked2}\")"
      ],
      "metadata": {
        "colab": {
          "base_uri": "https://localhost:8080/"
        },
        "id": "TPA7Hfcj4edN",
        "outputId": "22f87c33-f7af-4572-a48b-3fb144e08762"
      },
      "execution_count": null,
      "outputs": [
        {
          "output_type": "stream",
          "name": "stdout",
          "text": [
            "tensor([[1., 2., 3., 4., 5., 6., 7., 8., 9.],\n",
            "        [1., 2., 3., 4., 5., 6., 7., 8., 9.],\n",
            "        [1., 2., 3., 4., 5., 6., 7., 8., 9.],\n",
            "        [1., 2., 3., 4., 5., 6., 7., 8., 9.]])\n",
            "\n",
            "tensor([[1., 2., 3., 4., 5., 6., 7., 8., 9.],\n",
            "        [1., 2., 3., 4., 5., 6., 7., 8., 9.],\n",
            "        [1., 2., 3., 4., 5., 6., 7., 8., 9.],\n",
            "        [1., 2., 3., 4., 5., 6., 7., 8., 9.]])\n",
            "\n",
            "tensor([[1., 1., 1., 1.],\n",
            "        [2., 2., 2., 2.],\n",
            "        [3., 3., 3., 3.],\n",
            "        [4., 4., 4., 4.],\n",
            "        [5., 5., 5., 5.],\n",
            "        [6., 6., 6., 6.],\n",
            "        [7., 7., 7., 7.],\n",
            "        [8., 8., 8., 8.],\n",
            "        [9., 9., 9., 9.]])\n",
            "\n",
            "tensor([1., 2., 3., 4., 5., 6., 7., 8., 9., 1., 2., 3., 4., 5., 6., 7., 8., 9.,\n",
            "        1., 2., 3., 4., 5., 6., 7., 8., 9., 1., 2., 3., 4., 5., 6., 7., 8., 9.])\n"
          ]
        }
      ]
    },
    {
      "cell_type": "code",
      "source": [
        "#Squeezing a tensor, removes all 1 dimensions\n",
        "print(f\"Original Tensor {x_reshaped}\")\n",
        "print(f\"Original Tensor shape {x_reshaped.shape}\")\n",
        "x_squeezed = x_reshaped.squeeze()\n",
        "print(f\"After squeezing tensor {x_reshaped.squeeze()}\")\n",
        "print(f\"Shape of squeezed tensor {x_reshaped.squeeze().shape}\")"
      ],
      "metadata": {
        "colab": {
          "base_uri": "https://localhost:8080/"
        },
        "id": "5aa2W6LS5RED",
        "outputId": "3f280d10-dee9-4afb-8349-e903e2d5749c"
      },
      "execution_count": null,
      "outputs": [
        {
          "output_type": "stream",
          "name": "stdout",
          "text": [
            "Original Tensor tensor([[5., 2., 3., 4., 5., 6., 7., 8., 9.]])\n",
            "Original Tensor shape torch.Size([1, 9])\n",
            "After squeezing tensor tensor([5., 2., 3., 4., 5., 6., 7., 8., 9.])\n",
            "Shape of squeezed tensor torch.Size([9])\n"
          ]
        }
      ]
    },
    {
      "cell_type": "code",
      "source": [
        "#torch.unqueeze() - adds a single dimension to a target tensor at a specific dimension\n",
        "print(f\"Squeezed Tensor: {x_squeezed}\")\n",
        "print(f\"Squeezed Tensor shape: {x_squeezed.shape}\")\n",
        "\n",
        "#Adding an extra dimension with unsqueeze\n",
        "x_unsqueezed = x_squeezed.unsqueeze(dim = 0) #dim specifies where to add the new dimension\n",
        "print(f\"The new unqueezed tensor: {x_unsqueezed}\")\n",
        "print(f\"The new shape is: {x_unsqueezed.shape}\")"
      ],
      "metadata": {
        "colab": {
          "base_uri": "https://localhost:8080/"
        },
        "id": "ET0DKeGP-7kB",
        "outputId": "d4d1e79f-9fb0-4760-d32c-295ba0c288b2"
      },
      "execution_count": null,
      "outputs": [
        {
          "output_type": "stream",
          "name": "stdout",
          "text": [
            "Squeezed Tensor: tensor([5., 2., 3., 4., 5., 6., 7., 8., 9.])\n",
            "Squeezed Tensor shape: torch.Size([9])\n",
            "The new unqueezed tensor: tensor([[5., 2., 3., 4., 5., 6., 7., 8., 9.]])\n",
            "The new shape is: torch.Size([1, 9])\n"
          ]
        }
      ]
    },
    {
      "cell_type": "code",
      "source": [
        "#torch.permute() - rearranges the dimensions of a target tensor in a specified way (Shares memory like view)\n",
        "x = torch.randn(2, 3, 5)\n",
        "print(f\"Previous shape : {x.size()}\")\n",
        "print(f\"New shape : {torch.permute(x, (2, 0, 1)).size()}\")\n",
        "#(2, 0, 1)\n",
        "#2: moves the number of elements in the 2nd dimension to the 0 th dimension\n",
        "#0: moves the number of elements in the 0 th dimension to the 1 st dimension\n",
        "#1: moves the number of elements in the 1 st dimension to the 2 nd dimension"
      ],
      "metadata": {
        "colab": {
          "base_uri": "https://localhost:8080/"
        },
        "id": "n38hF2Q3A-98",
        "outputId": "023b0d2b-f7d6-4d37-a76d-dc485afab544"
      },
      "execution_count": null,
      "outputs": [
        {
          "output_type": "stream",
          "name": "stdout",
          "text": [
            "Previous shape : torch.Size([2, 3, 5])\n",
            "New shape : torch.Size([5, 2, 3])\n"
          ]
        }
      ]
    },
    {
      "cell_type": "code",
      "source": [
        "x_original = torch.rand(size = (224, 224, 3)) # [height, width, colour channels]\n",
        "\n",
        "#Permuting the original tensor to rearrange the dimensions\n",
        "x_permuted = torch.permute(x_original, (2, 0, 1)) # [colour channels, height, width]\n",
        "# 2 --> 0, 0-->1, 1-->2\n",
        "print(x_permuted.shape)"
      ],
      "metadata": {
        "colab": {
          "base_uri": "https://localhost:8080/"
        },
        "id": "0vtrQBypCXlM",
        "outputId": "15eff6bc-3627-432a-849c-a8cd55a2fa0d"
      },
      "execution_count": null,
      "outputs": [
        {
          "output_type": "stream",
          "name": "stdout",
          "text": [
            "torch.Size([3, 224, 224])\n"
          ]
        }
      ]
    },
    {
      "cell_type": "code",
      "source": [
        "print(x_original[0,0,0])\n",
        "x_original[0, 0, 0] = 5\n",
        "print(x_original[0, 0, 0])\n",
        "print(x_permuted[0, 0, 0])"
      ],
      "metadata": {
        "id": "llW43rQ4Dh0h",
        "colab": {
          "base_uri": "https://localhost:8080/"
        },
        "outputId": "90f04146-f89b-465f-9429-2d3d537f6d1d"
      },
      "execution_count": null,
      "outputs": [
        {
          "output_type": "stream",
          "name": "stdout",
          "text": [
            "tensor(0.8657)\n",
            "tensor(5.)\n",
            "tensor(5.)\n"
          ]
        }
      ]
    },
    {
      "cell_type": "markdown",
      "source": [
        "## Selecting data from tensors (Indexing)\n",
        "Indexing with pytorch is similar to indexing with numpy"
      ],
      "metadata": {
        "id": "BBqX57GhMGpv"
      }
    },
    {
      "cell_type": "code",
      "source": [
        "import torch\n",
        "x = torch.arange(1, 10).reshape(1, 3, 3)\n",
        "x, x.shape"
      ],
      "metadata": {
        "colab": {
          "base_uri": "https://localhost:8080/"
        },
        "id": "cALYNlDUKrnR",
        "outputId": "6f607eac-76ec-415e-b330-a4a2b4e18043"
      },
      "execution_count": null,
      "outputs": [
        {
          "output_type": "execute_result",
          "data": {
            "text/plain": [
              "(tensor([[[1, 2, 3],\n",
              "          [4, 5, 6],\n",
              "          [7, 8, 9]]]),\n",
              " torch.Size([1, 3, 3]))"
            ]
          },
          "metadata": {},
          "execution_count": 10
        }
      ]
    },
    {
      "cell_type": "code",
      "source": [
        "#Indexing on x\n",
        "x[0] #Indexed on the 0 th dimension"
      ],
      "metadata": {
        "colab": {
          "base_uri": "https://localhost:8080/"
        },
        "id": "K2uYEO40Mifx",
        "outputId": "96624910-8207-4834-d9a9-4e72c50c988a"
      },
      "execution_count": null,
      "outputs": [
        {
          "output_type": "execute_result",
          "data": {
            "text/plain": [
              "tensor([[1, 2, 3],\n",
              "        [4, 5, 6],\n",
              "        [7, 8, 9]])"
            ]
          },
          "metadata": {},
          "execution_count": 11
        }
      ]
    },
    {
      "cell_type": "code",
      "source": [
        "x[0][0] #Indexed on the middle bracket (1 st Dimension)"
      ],
      "metadata": {
        "colab": {
          "base_uri": "https://localhost:8080/"
        },
        "id": "n65JWJLEM6CV",
        "outputId": "ad67a15e-eed9-4403-8074-42117a2e47c3"
      },
      "execution_count": null,
      "outputs": [
        {
          "output_type": "execute_result",
          "data": {
            "text/plain": [
              "tensor([1, 2, 3])"
            ]
          },
          "metadata": {},
          "execution_count": 13
        }
      ]
    },
    {
      "cell_type": "code",
      "source": [
        "x[0][0][0] #Indexed on the inner most bracket (Last Dimesion , 2nd)\n"
      ],
      "metadata": {
        "colab": {
          "base_uri": "https://localhost:8080/"
        },
        "id": "UoFmbAc-NN-h",
        "outputId": "05d1042d-f582-40f7-ae82-58e642229624"
      },
      "execution_count": null,
      "outputs": [
        {
          "output_type": "execute_result",
          "data": {
            "text/plain": [
              "tensor(1)"
            ]
          },
          "metadata": {},
          "execution_count": 14
        }
      ]
    },
    {
      "cell_type": "code",
      "source": [
        "#You can also use \":\" to get \"all\" of a target dimension\n",
        "x[:, 0]"
      ],
      "metadata": {
        "colab": {
          "base_uri": "https://localhost:8080/"
        },
        "id": "usktiqFHNhl1",
        "outputId": "b0bf9658-4e16-4b3b-d44e-77729ac8486b"
      },
      "execution_count": null,
      "outputs": [
        {
          "output_type": "execute_result",
          "data": {
            "text/plain": [
              "tensor([[1, 2, 3]])"
            ]
          },
          "metadata": {},
          "execution_count": 15
        }
      ]
    },
    {
      "cell_type": "code",
      "source": [
        "#Get all values of 0 th and 1 st dimension but only index one of 2 nd dimension\n",
        "x[:,:,1]"
      ],
      "metadata": {
        "colab": {
          "base_uri": "https://localhost:8080/"
        },
        "id": "JIzN0ui-OM7E",
        "outputId": "0b001c44-1375-4f53-8a16-d3d68f77b6aa"
      },
      "execution_count": null,
      "outputs": [
        {
          "output_type": "execute_result",
          "data": {
            "text/plain": [
              "tensor([[2, 5, 8]])"
            ]
          },
          "metadata": {},
          "execution_count": 18
        }
      ]
    },
    {
      "cell_type": "code",
      "source": [
        "#Get all values of the 0 th dimension but only the 1 index value of 1 st and 2 nd dimension\n",
        "x[:,1,1]"
      ],
      "metadata": {
        "colab": {
          "base_uri": "https://localhost:8080/"
        },
        "id": "9ziYDfo5ObIe",
        "outputId": "77b8306b-e978-45bc-bb62-ac94c12387d6"
      },
      "execution_count": null,
      "outputs": [
        {
          "output_type": "execute_result",
          "data": {
            "text/plain": [
              "tensor([5])"
            ]
          },
          "metadata": {},
          "execution_count": 20
        }
      ]
    },
    {
      "cell_type": "code",
      "source": [
        "#Get index 0 of 0th and 1 st dimension and all values of 2 nd dimension\n",
        "x[0, 0, :]"
      ],
      "metadata": {
        "colab": {
          "base_uri": "https://localhost:8080/"
        },
        "id": "Mh1EkciIO80P",
        "outputId": "f135bb12-3803-498a-86f4-62f2e92da645"
      },
      "execution_count": null,
      "outputs": [
        {
          "output_type": "execute_result",
          "data": {
            "text/plain": [
              "tensor([1, 2, 3])"
            ]
          },
          "metadata": {},
          "execution_count": 21
        }
      ]
    },
    {
      "cell_type": "code",
      "source": [
        "print(x)\n",
        "#Index on x to return 9\n",
        "print(x[0][2][2])\n",
        "#Index on x to return 3, 6, 9\n",
        "x[:, :, 2]\n",
        "#All of the elemenrs in the 0 th dimension(whole outermost bracket included)\n",
        "#All of the elements in the 1 st dimension(whole middle bracket included so all rows included)\n",
        "#[2] Only the second index from all of the included rows"
      ],
      "metadata": {
        "colab": {
          "base_uri": "https://localhost:8080/"
        },
        "id": "Bt8WU9E8Pla-",
        "outputId": "cfa53ed5-a715-48c1-fd70-8baa21519908"
      },
      "execution_count": null,
      "outputs": [
        {
          "output_type": "stream",
          "name": "stdout",
          "text": [
            "tensor([[[1, 2, 3],\n",
            "         [4, 5, 6],\n",
            "         [7, 8, 9]]])\n",
            "tensor(9)\n"
          ]
        },
        {
          "output_type": "execute_result",
          "data": {
            "text/plain": [
              "tensor([[3, 6, 9]])"
            ]
          },
          "metadata": {},
          "execution_count": 33
        }
      ]
    },
    {
      "cell_type": "markdown",
      "source": [
        "## Pytorch and Numpy\n",
        "* Data may be in numpy array and we want in pytorch tensor -> `torch.from_numpy(ndarray)`\n",
        "*Pytorch tensor to numpy -> `torch.Tensor.numpy()`"
      ],
      "metadata": {
        "id": "YH05Ia_aSfZ9"
      }
    },
    {
      "cell_type": "code",
      "source": [
        "#numpy array to tensor\n",
        "import torch\n",
        "import numpy as np\n",
        "array = np.arange(1.0, 10.0)\n",
        "tensor = torch.from_numpy(array)#.type(torch.float32)\n",
        "array, tensor\n",
        "# NOTE :- Default datatype in pytorch is float32 whereas default numpy datatype is float64\n",
        "#When converting pytorch reflects numpys default type of float64"
      ],
      "metadata": {
        "colab": {
          "base_uri": "https://localhost:8080/"
        },
        "id": "ZaYC3s38Q3FK",
        "outputId": "529dabde-6e6b-4d4d-9e25-5b044f34b5d6"
      },
      "execution_count": null,
      "outputs": [
        {
          "output_type": "execute_result",
          "data": {
            "text/plain": [
              "(array([1., 2., 3., 4., 5., 6., 7., 8., 9.]),\n",
              " tensor([1., 2., 3., 4., 5., 6., 7., 8., 9.], dtype=torch.float64))"
            ]
          },
          "metadata": {},
          "execution_count": 1
        }
      ]
    },
    {
      "cell_type": "code",
      "source": [
        "tensor = tensor.type(torch.float32)\n",
        "print(tensor.dtype)\n",
        "#Converting the datatype"
      ],
      "metadata": {
        "colab": {
          "base_uri": "https://localhost:8080/"
        },
        "id": "flqZ5pyKTQbf",
        "outputId": "511436e4-1b14-4a46-c37b-a1bf1dcd080c"
      },
      "execution_count": null,
      "outputs": [
        {
          "output_type": "stream",
          "name": "stdout",
          "text": [
            "torch.float32\n"
          ]
        }
      ]
    },
    {
      "cell_type": "code",
      "source": [
        "#Will changing the array change the tensor?\n",
        "array = array + 1\n",
        "array, tensor\n",
        "#NO"
      ],
      "metadata": {
        "colab": {
          "base_uri": "https://localhost:8080/"
        },
        "id": "hp13VVA9TsTL",
        "outputId": "0e298e3c-7482-4b92-9dec-a905db54cfd3"
      },
      "execution_count": null,
      "outputs": [
        {
          "output_type": "execute_result",
          "data": {
            "text/plain": [
              "(array([ 2.,  3.,  4.,  5.,  6.,  7.,  8.,  9., 10.]),\n",
              " tensor([1., 2., 3., 4., 5., 6., 7., 8., 9.]))"
            ]
          },
          "metadata": {},
          "execution_count": 49
        }
      ]
    },
    {
      "cell_type": "code",
      "source": [
        "#From tensor to numpy\n",
        "tensor = torch.ones(7)\n",
        "numpy_tensor = tensor.numpy()\n",
        "tensor, numpy_tensor\n",
        "#THE DEFAULT DATATYPE IS REFLECTED"
      ],
      "metadata": {
        "colab": {
          "base_uri": "https://localhost:8080/"
        },
        "id": "XQ_R8AGhU822",
        "outputId": "40a6fc99-4311-44c1-d4bd-010118473d5e"
      },
      "execution_count": null,
      "outputs": [
        {
          "output_type": "execute_result",
          "data": {
            "text/plain": [
              "(tensor([1., 1., 1., 1., 1., 1., 1.]),\n",
              " array([1., 1., 1., 1., 1., 1., 1.], dtype=float32))"
            ]
          },
          "metadata": {},
          "execution_count": 52
        }
      ]
    },
    {
      "cell_type": "code",
      "source": [
        "#Will changing the tensor change the numpy tensor?\n",
        "tensor = tensor + 1\n",
        "tensor, numpy_tensor\n",
        "#NO"
      ],
      "metadata": {
        "colab": {
          "base_uri": "https://localhost:8080/"
        },
        "id": "-wPQSUbaVfa2",
        "outputId": "2fdf69ef-57d8-406f-a051-ba538dd21e2b"
      },
      "execution_count": null,
      "outputs": [
        {
          "output_type": "execute_result",
          "data": {
            "text/plain": [
              "(tensor([2., 2., 2., 2., 2., 2., 2.]),\n",
              " array([1., 1., 1., 1., 1., 1., 1.], dtype=float32))"
            ]
          },
          "metadata": {},
          "execution_count": 57
        }
      ]
    },
    {
      "cell_type": "markdown",
      "source": [
        "##Reproducibility:- The process of taking the random out of random\n",
        "How neural networks learn:-\n",
        "`start with random numbers -> tensor operations -> update random numbers to try and make them better representation of the data`\n",
        "\n",
        "To reduce the randomness in neural networks and pytorch comes the concept of **random seed**\n",
        "random seed flavours the randomness\n"
      ],
      "metadata": {
        "id": "pK3bnXz7noHZ"
      }
    },
    {
      "cell_type": "code",
      "source": [
        "import torch\n",
        "\n",
        "random_tensorA = torch.rand(3, 4)\n",
        "random_tensorB = torch.rand(3, 4)\n",
        "print(random_tensorA)\n",
        "print(random_tensorB)\n",
        "print(random_tensorA == random_tensorB)"
      ],
      "metadata": {
        "colab": {
          "base_uri": "https://localhost:8080/"
        },
        "id": "yuxz0cTyV1We",
        "outputId": "f342c629-6722-46db-acfa-c904171c83ef"
      },
      "execution_count": null,
      "outputs": [
        {
          "output_type": "stream",
          "name": "stdout",
          "text": [
            "tensor([[0.2148, 0.8337, 0.7952, 0.7825],\n",
            "        [0.5507, 0.9798, 0.9877, 0.8597],\n",
            "        [0.4397, 0.1534, 0.4472, 0.2686]])\n",
            "tensor([[0.6912, 0.4391, 0.9395, 0.1178],\n",
            "        [0.9215, 0.5339, 0.1181, 0.5125],\n",
            "        [0.6713, 0.8311, 0.5185, 0.1304]])\n",
            "tensor([[False, False, False, False],\n",
            "        [False, False, False, False],\n",
            "        [False, False, False, False]])\n"
          ]
        }
      ]
    },
    {
      "cell_type": "code",
      "source": [
        "#Random but reproducible tensors\n",
        "#Set the random seed\n",
        "RANDOM_SEED = 42\n",
        "\n",
        "torch.manual_seed(RANDOM_SEED)\n",
        "random_tensorC = torch.rand(3, 4)\n",
        "\n",
        "torch.manual_seed(RANDOM_SEED) # ONLY WORKS FOR ONE LINE OF CODE\n",
        "random_tensorD = torch.rand(3, 4)\n",
        "print(random_tensorC)\n",
        "print(random_tensorD)\n",
        "print(random_tensorC == random_tensorD)"
      ],
      "metadata": {
        "colab": {
          "base_uri": "https://localhost:8080/"
        },
        "id": "HvnfdXQfomZl",
        "outputId": "898c0d81-f6e6-4930-af9c-261d6bf094e2"
      },
      "execution_count": null,
      "outputs": [
        {
          "output_type": "stream",
          "name": "stdout",
          "text": [
            "tensor([[0.8823, 0.9150, 0.3829, 0.9593],\n",
            "        [0.3904, 0.6009, 0.2566, 0.7936],\n",
            "        [0.9408, 0.1332, 0.9346, 0.5936]])\n",
            "tensor([[0.8823, 0.9150, 0.3829, 0.9593],\n",
            "        [0.3904, 0.6009, 0.2566, 0.7936],\n",
            "        [0.9408, 0.1332, 0.9346, 0.5936]])\n",
            "tensor([[True, True, True, True],\n",
            "        [True, True, True, True],\n",
            "        [True, True, True, True]])\n"
          ]
        }
      ]
    },
    {
      "cell_type": "markdown",
      "source": [
        "###Running tensors on GPUs and making faster computations"
      ],
      "metadata": {
        "id": "3dDoAvIBr1l7"
      }
    },
    {
      "cell_type": "code",
      "source": [
        "#Check for gpu access on pytorch\n",
        "import torch\n",
        "torch.cuda.is_available()\n"
      ],
      "metadata": {
        "colab": {
          "base_uri": "https://localhost:8080/"
        },
        "id": "7IwAs7rvqJ6F",
        "outputId": "32c25838-d185-4810-c313-86abc89fd766"
      },
      "execution_count": null,
      "outputs": [
        {
          "output_type": "execute_result",
          "data": {
            "text/plain": [
              "True"
            ]
          },
          "metadata": {},
          "execution_count": 2
        }
      ]
    },
    {
      "cell_type": "code",
      "source": [
        "#Setup device agnostic code\n",
        "device = \"cuda\" if torch.cuda.is_available() else \"cpu\"\n",
        "device"
      ],
      "metadata": {
        "colab": {
          "base_uri": "https://localhost:8080/",
          "height": 36
        },
        "id": "lrrY7lVfuJu4",
        "outputId": "f250ec2e-c1d9-4cbb-9a08-a8181276adc4"
      },
      "execution_count": null,
      "outputs": [
        {
          "output_type": "execute_result",
          "data": {
            "text/plain": [
              "'cuda'"
            ],
            "application/vnd.google.colaboratory.intrinsic+json": {
              "type": "string"
            }
          },
          "metadata": {},
          "execution_count": 3
        }
      ]
    },
    {
      "cell_type": "code",
      "source": [
        "#Creating a tensor, default on cpu\n",
        "tensor = torch.tensor([1, 2, 2])\n",
        "print(tensor, tensor.device)"
      ],
      "metadata": {
        "colab": {
          "base_uri": "https://localhost:8080/"
        },
        "id": "mzo8PT8EvIhB",
        "outputId": "4f2074b8-e86a-44d0-e8af-19dd6cdec68f"
      },
      "execution_count": null,
      "outputs": [
        {
          "output_type": "stream",
          "name": "stdout",
          "text": [
            "tensor([1, 2, 2]) cpu\n"
          ]
        }
      ]
    },
    {
      "cell_type": "code",
      "source": [
        "#Moving tensor to GPU\n",
        "tensor_GPU = tensor.to(device) # or \"cuda\" instead of device\n",
        "tensor_GPU"
      ],
      "metadata": {
        "colab": {
          "base_uri": "https://localhost:8080/"
        },
        "id": "QwGBDTaj-pGq",
        "outputId": "16f047e8-66c0-4600-dd9f-c8a32815e8e4"
      },
      "execution_count": null,
      "outputs": [
        {
          "output_type": "execute_result",
          "data": {
            "text/plain": [
              "tensor([1, 2, 2], device='cuda:0')"
            ]
          },
          "metadata": {},
          "execution_count": 8
        }
      ]
    },
    {
      "cell_type": "code",
      "source": [
        "#Moving tensors back to cpu\n",
        "#NUMPY DOES NOT WORK ON GPU SO NEED TO SHIFT TO CPU\n",
        "tensor_CPU = tensor_GPU.to(\"cpu\") #or use tensor_GPU.cpu()\n",
        "tensor_CPU, tensor_CPU.device"
      ],
      "metadata": {
        "colab": {
          "base_uri": "https://localhost:8080/"
        },
        "id": "W72xvl-U-4eD",
        "outputId": "75aab07e-6784-4c03-889a-c6234bb80a1b"
      },
      "execution_count": null,
      "outputs": [
        {
          "output_type": "execute_result",
          "data": {
            "text/plain": [
              "(tensor([1, 2, 2]), device(type='cpu'))"
            ]
          },
          "metadata": {},
          "execution_count": 11
        }
      ]
    },
    {
      "cell_type": "markdown",
      "source": [
        "##EXERCISES\n",
        "https://www.learnpytorch.io/00_pytorch_fundamentals/#exercises"
      ],
      "metadata": {
        "id": "v-S0vWYDAlq7"
      }
    },
    {
      "cell_type": "code",
      "source": [
        "import torch"
      ],
      "metadata": {
        "id": "HHc2qtzLBVDl"
      },
      "execution_count": null,
      "outputs": []
    },
    {
      "cell_type": "code",
      "source": [
        "#1.\n",
        "tensor1 = torch.rand(7, 7)\n",
        "print(tensor1, tensor1.shape)"
      ],
      "metadata": {
        "colab": {
          "base_uri": "https://localhost:8080/"
        },
        "id": "gFa60z0M_U3h",
        "outputId": "179af703-46e0-477d-e295-df5da9536053"
      },
      "execution_count": null,
      "outputs": [
        {
          "output_type": "stream",
          "name": "stdout",
          "text": [
            "tensor([[0.8688, 0.0966, 0.9084, 0.2896, 0.7504, 0.0758, 0.2901],\n",
            "        [0.6105, 0.2902, 0.9673, 0.4704, 0.0028, 0.6970, 0.1629],\n",
            "        [0.3006, 0.2346, 0.8110, 0.5967, 0.2009, 0.9799, 0.4493],\n",
            "        [0.8846, 0.1133, 0.4878, 0.0941, 0.8848, 0.8436, 0.4307],\n",
            "        [0.3823, 0.9969, 0.5473, 0.3033, 0.1692, 0.7224, 0.6249],\n",
            "        [0.8729, 0.4253, 0.0417, 0.8982, 0.6889, 0.1306, 0.1386],\n",
            "        [0.2737, 0.6718, 0.3093, 0.9013, 0.1046, 0.7212, 0.3952]]) torch.Size([7, 7])\n"
          ]
        }
      ]
    },
    {
      "cell_type": "code",
      "source": [
        "tensor2 = torch.rand(1, 7)\n",
        "print(f\"Original tensor number 2 is {tensor2} and shape is {tensor2.shape}\")\n",
        "print(f\"\\nThe transposed tensor 2 is \\n {tensor2.T}\")\n",
        "print(f\"\\n The new shape is {tensor2.T.shape}\")\n",
        "\n",
        "tensor3 = torch.matmul(tensor1, tensor2.T) # (7, 7) * (1, 7) : Inner dimensions dont match so transpose\n",
        "print(f\"\\n The result of tensor multiplication is \\n {tensor3}\")\n"
      ],
      "metadata": {
        "colab": {
          "base_uri": "https://localhost:8080/"
        },
        "id": "jdL56UDmBXls",
        "outputId": "8510a437-7f42-4c96-9b25-c4a426866e14"
      },
      "execution_count": null,
      "outputs": [
        {
          "output_type": "stream",
          "name": "stdout",
          "text": [
            "Original tensor number 2 is tensor([[0.3362, 0.9440, 0.8510, 0.3015, 0.4360, 0.4281, 0.3216]]) and shape is torch.Size([1, 7])\n",
            "\n",
            "The transposed tensor 2 is \n",
            " tensor([[0.3362],\n",
            "        [0.9440],\n",
            "        [0.8510],\n",
            "        [0.3015],\n",
            "        [0.4360],\n",
            "        [0.4281],\n",
            "        [0.3216]])\n",
            "\n",
            " The new shape is torch.Size([7, 1])\n",
            "\n",
            " The result of tensor multiplication is \n",
            " tensor([[1.6966],\n",
            "        [1.7962],\n",
            "        [1.8442],\n",
            "        [1.7332],\n",
            "        [2.2107],\n",
            "        [1.4021],\n",
            "        [1.7426]])\n"
          ]
        }
      ]
    },
    {
      "cell_type": "code",
      "source": [
        "RANDOM_SEED = 0\n",
        "torch.manual_seed(RANDOM_SEED)\n",
        "tensor1 = torch.rand(7, 7)\n",
        "print(f\"Original tensor number 1 is \\n {tensor1} and shape is {tensor1.shape}\")\n",
        "\n",
        "#torch.manual_seed(RANDOM_SEED)\n",
        "tensor2 = torch.rand(1, 7)\n",
        "\n",
        "print(f\"\\nOriginal tensor number 2 is {tensor2} and shape is {tensor2.shape}\")\n",
        "print(f\"\\nThe transposed tensor 2 is \\n {tensor2.T}\")\n",
        "print(f\"\\n The new shape is {tensor2.T.shape}\")\n",
        "\n",
        "tensor3 = torch.matmul(tensor1, tensor2.T) # (7, 7) * (1, 7) : Inner dimensions dont match so transpose\n",
        "print(f\"\\n The result of tensor multiplication is \\n {tensor3}\")"
      ],
      "metadata": {
        "colab": {
          "base_uri": "https://localhost:8080/"
        },
        "id": "rPVBksxaBidy",
        "outputId": "78fc37bc-2c01-46ca-fcbf-cb8076f13784"
      },
      "execution_count": null,
      "outputs": [
        {
          "output_type": "stream",
          "name": "stdout",
          "text": [
            "Original tensor number 1 is \n",
            " tensor([[0.4963, 0.7682, 0.0885, 0.1320, 0.3074, 0.6341, 0.4901],\n",
            "        [0.8964, 0.4556, 0.6323, 0.3489, 0.4017, 0.0223, 0.1689],\n",
            "        [0.2939, 0.5185, 0.6977, 0.8000, 0.1610, 0.2823, 0.6816],\n",
            "        [0.9152, 0.3971, 0.8742, 0.4194, 0.5529, 0.9527, 0.0362],\n",
            "        [0.1852, 0.3734, 0.3051, 0.9320, 0.1759, 0.2698, 0.1507],\n",
            "        [0.0317, 0.2081, 0.9298, 0.7231, 0.7423, 0.5263, 0.2437],\n",
            "        [0.5846, 0.0332, 0.1387, 0.2422, 0.8155, 0.7932, 0.2783]]) and shape is torch.Size([7, 7])\n",
            "\n",
            "Original tensor number 2 is tensor([[0.4820, 0.8198, 0.9971, 0.6984, 0.5675, 0.8352, 0.2056]]) and shape is torch.Size([1, 7])\n",
            "\n",
            "The transposed tensor 2 is \n",
            " tensor([[0.4820],\n",
            "        [0.8198],\n",
            "        [0.9971],\n",
            "        [0.6984],\n",
            "        [0.5675],\n",
            "        [0.8352],\n",
            "        [0.2056]])\n",
            "\n",
            " The new shape is torch.Size([7, 1])\n",
            "\n",
            " The result of tensor multiplication is \n",
            " tensor([[1.8542],\n",
            "        [1.9611],\n",
            "        [2.2884],\n",
            "        [3.0481],\n",
            "        [1.7067],\n",
            "        [2.5290],\n",
            "        [1.7989]])\n"
          ]
        }
      ]
    },
    {
      "cell_type": "code",
      "source": [
        "# Set random seed on the GPU\n",
        "torch.cuda.manual_seed(1234)"
      ],
      "metadata": {
        "id": "4Aibpe90n6q6"
      },
      "execution_count": null,
      "outputs": []
    },
    {
      "cell_type": "code",
      "source": [
        "torch.manual_seed(1234)\n",
        "tensor1 = torch.rand(size = (2, 3), device = \"cuda\")\n",
        "torch.manual_seed(1234)\n",
        "tensor2 = torch.rand(size = (2, 3), device = \"cuda\")\n",
        "print(f\"The first tensor is \\n {tensor1}\")\n",
        "print(f\"The second tensor is \\n {tensor2}\")\n"
      ],
      "metadata": {
        "colab": {
          "base_uri": "https://localhost:8080/"
        },
        "id": "WIBnRX5Ipina",
        "outputId": "87d53fa0-63b2-4201-e78f-c4d9f5165c7a"
      },
      "execution_count": null,
      "outputs": [
        {
          "output_type": "stream",
          "name": "stdout",
          "text": [
            "The first tensor is \n",
            " tensor([[0.1272, 0.8167, 0.5440],\n",
            "        [0.6601, 0.2721, 0.9737]], device='cuda:0')\n",
            "The second tensor is \n",
            " tensor([[0.1272, 0.8167, 0.5440],\n",
            "        [0.6601, 0.2721, 0.9737]], device='cuda:0')\n"
          ]
        }
      ]
    },
    {
      "cell_type": "code",
      "source": [
        "tensor2 = tensor2.T\n",
        "tensor3 = torch.matmul(tensor1, tensor2)\n",
        "print(f\"The result of multiplication of the two tensors is \\n {tensor3}\")"
      ],
      "metadata": {
        "colab": {
          "base_uri": "https://localhost:8080/"
        },
        "id": "d2LoV96HqDPv",
        "outputId": "66c417ae-6121-4eea-c3ca-caa6986f6911"
      },
      "execution_count": null,
      "outputs": [
        {
          "output_type": "stream",
          "name": "stdout",
          "text": [
            "The result of multiplication of the two tensors is \n",
            " tensor([[0.9792, 0.8358],\n",
            "        [0.8358, 1.4578]], device='cuda:0')\n"
          ]
        }
      ]
    },
    {
      "cell_type": "code",
      "source": [
        "max = torch.max(tensor3)\n",
        "print(f\"The max value in the result is {max}\")\n",
        "min = torch.min(tensor3)\n",
        "print(f\"The min value in the result is {min}\")\n",
        "\n",
        "maxIndex = torch.argmax(tensor3)\n",
        "print(f\"The max value index in the result is {maxIndex}\")\n",
        "minIndex = torch.argmin(tensor3)\n",
        "print(f\"The min value index in the result is {minIndex}\")"
      ],
      "metadata": {
        "colab": {
          "base_uri": "https://localhost:8080/"
        },
        "id": "tcx7UP7gqRxb",
        "outputId": "014cae63-0a1d-4bf6-a6d3-547b226ff809"
      },
      "execution_count": null,
      "outputs": [
        {
          "output_type": "stream",
          "name": "stdout",
          "text": [
            "The max value in the result is 1.4577524662017822\n",
            "The min value in the result is 0.8358409404754639\n",
            "The max value index in the result is 3\n",
            "The min value index in the result is 1\n"
          ]
        }
      ]
    },
    {
      "cell_type": "code",
      "source": [
        "torch.manual_seed(7)\n",
        "tensor1 = torch.rand(size = (1, 1, 1, 10))\n",
        "print(f\"The original tensor 1 is \\n {tensor1} and the shape is \\n {tensor1.shape}\")\n",
        "tensor2 = torch.squeeze(tensor1)\n",
        "print(f\"The original tensor after being squeezed to remove 1 dimensions is \\n {tensor2} and the shape is {tensor2.shape}\")\n"
      ],
      "metadata": {
        "colab": {
          "base_uri": "https://localhost:8080/"
        },
        "id": "zsHbK2juqgPN",
        "outputId": "037e71e6-441a-483b-f6cb-ea181f4d134f"
      },
      "execution_count": null,
      "outputs": [
        {
          "output_type": "stream",
          "name": "stdout",
          "text": [
            "The original tensor 1 is \n",
            " tensor([[[[0.5349, 0.1988, 0.6592, 0.6569, 0.2328, 0.4251, 0.2071, 0.6297,\n",
            "           0.3653, 0.8513]]]]) and the shape is \n",
            " torch.Size([1, 1, 1, 10])\n",
            "The original tensor after being squeezed to remove 1 dimensions is \n",
            " tensor([0.5349, 0.1988, 0.6592, 0.6569, 0.2328, 0.4251, 0.2071, 0.6297, 0.3653,\n",
            "        0.8513]) and the shape is torch.Size([10])\n"
          ]
        }
      ]
    },
    {
      "cell_type": "markdown",
      "source": [
        "##Exercise complete and Pytorch Fundamentals Completed"
      ],
      "metadata": {
        "id": "i28WciQxsAmh"
      }
    }
  ]
}